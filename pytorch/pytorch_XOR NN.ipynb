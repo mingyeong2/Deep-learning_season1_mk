{
 "cells": [
  {
   "cell_type": "code",
   "execution_count": 1,
   "metadata": {},
   "outputs": [],
   "source": [
    "import torch\n",
    "from torch import nn, optim\n",
    "from torch.autograd import Variable\n",
    "import torch.nn.functional as F\n",
    "import numpy as np"
   ]
  },
  {
   "cell_type": "code",
   "execution_count": 3,
   "metadata": {},
   "outputs": [],
   "source": [
    "x_data = np.array([[0,0],[0,1],[1,0],[1,1]], dtype = np.float32)\n",
    "y_data = np.array([[0],[1],[1],[0]], dtype = np.float32) \n",
    "\n",
    "input_dim = len(x_data[0])\n",
    "output_dim = len(y_data[0])\n",
    "\n",
    "X = Variable(torch.tensor(x_data))\n",
    "Y = Variable(torch.tensor(y_data))"
   ]
  },
  {
   "cell_type": "code",
   "execution_count": 4,
   "metadata": {},
   "outputs": [],
   "source": [
    "class Net(nn.Module):\n",
    "    def __init__(self):\n",
    "        super(Net, self).__init__()\n",
    "        self.linear1 = nn.Linear(input_dim, 2, bias = True)\n",
    "        self.sigmoid = nn.Sigmoid()\n",
    "        self.linear2 = nn.Linear(2, output_dim, bias = True)\n",
    "        self.model = nn.Sequential(self.linear1, self.sigmoid, self.linear2, self.sigmoid)\n",
    "        \n",
    "    def forward(self, x):\n",
    "        outputs = self.model(x)\n",
    "        return outputs\n",
    "\n",
    "    \n",
    "    \n",
    "    \n",
    "model = Net()"
   ]
  },
  {
   "cell_type": "code",
   "execution_count": 8,
   "metadata": {},
   "outputs": [
    {
     "name": "stdout",
     "output_type": "stream",
     "text": [
      "step 0, loss 0.6821415424346924\n",
      "step 1000, loss 0.647502601146698\n",
      "step 2000, loss 0.3645537197589874\n",
      "step 3000, loss 0.11928139626979828\n",
      "step 4000, loss 0.06166524067521095\n",
      "step 5000, loss 0.04012984782457352\n",
      "step 6000, loss 0.029344528913497925\n",
      "step 7000, loss 0.02297881245613098\n",
      "step 8000, loss 0.018814286217093468\n",
      "step 9000, loss 0.015891965478658676\n",
      "step 10000, loss 0.013735033571720123\n",
      "Prediction:  tensor([[0.],\n",
      "        [1.],\n",
      "        [1.],\n",
      "        [0.]]) \n",
      " Accuracy:  tensor(1.)\n"
     ]
    }
   ],
   "source": [
    "lr = 0.1\n",
    "optimiser = optim.SGD(model.parameters(), lr = lr)\n",
    "criterion = nn.BCELoss(reduction = 'elementwise_mean')\n",
    "\n",
    "for step in range(10001):\n",
    "    optimiser.zero_grad()\n",
    "    \n",
    "    outputs = model.forward(X)\n",
    "    cost = criterion(outputs, Y)\n",
    "    cost.backward(retain_graph = True)\n",
    "    optimiser.step()\n",
    "    \n",
    "    if step % 1000 == 0:\n",
    "        print('step {}, loss {}'.format(step, cost.item()))\n",
    "\n",
    "predicted = (model.forward(X) > 0.5).float()\n",
    "accuracy = (predicted == Y).float().mean()\n",
    "\n",
    "print('Prediction: ', predicted, '\\n Accuracy: ', accuracy.data)\n",
    "    "
   ]
  },
  {
   "cell_type": "markdown",
   "metadata": {},
   "source": [
    "## Wide NN for XOR"
   ]
  },
  {
   "cell_type": "code",
   "execution_count": 13,
   "metadata": {},
   "outputs": [],
   "source": [
    "class WideNet(nn.Module):\n",
    "    def __init__(self):\n",
    "        super(WideNet, self).__init__()\n",
    "        self.linear1 = nn.Linear(input_dim, 10, bias = True)\n",
    "        self.sigmoid = nn.Sigmoid()\n",
    "        self.linear2 = nn.Linear(10, output_dim, bias = True)\n",
    "        self.model = nn.Sequential(self.linear1, self.sigmoid, self.linear2, self.sigmoid)\n",
    "        \n",
    "    def forward(self, x):\n",
    "        outputs = self.model(x)\n",
    "        return outputs"
   ]
  },
  {
   "cell_type": "code",
   "execution_count": 14,
   "metadata": {},
   "outputs": [],
   "source": [
    "model2 = WideNet()"
   ]
  },
  {
   "cell_type": "code",
   "execution_count": 21,
   "metadata": {},
   "outputs": [
    {
     "name": "stdout",
     "output_type": "stream",
     "text": [
      "step 0, loss 0.013081904500722885\n",
      "step 1000, loss 0.011068901047110558\n",
      "step 2000, loss 0.009569764137268066\n",
      "step 3000, loss 0.008413081988692284\n",
      "step 4000, loss 0.007495297119021416\n",
      "step 5000, loss 0.006750427186489105\n",
      "step 6000, loss 0.006134524941444397\n",
      "step 7000, loss 0.005617176648229361\n",
      "step 8000, loss 0.005176905542612076\n",
      "step 9000, loss 0.00479782372713089\n",
      "step 10000, loss 0.004468213766813278\n",
      "Prediction:  tensor([[0.0042],\n",
      "        [0.9946],\n",
      "        [0.9964],\n",
      "        [0.0047]], grad_fn=<SigmoidBackward>) \n",
      " Accuracy:  tensor(1.)\n"
     ]
    }
   ],
   "source": [
    "lr = 0.1\n",
    "optimiser = optim.SGD(model2.parameters(), lr = lr)\n",
    "criterion = nn.BCELoss(reduction = 'elementwise_mean')\n",
    "\n",
    "for step in range(10001):\n",
    "    optimiser.zero_grad()\n",
    "    \n",
    "    outputs = model2.forward(X)\n",
    "    cost = criterion(outputs, Y)\n",
    "    cost.backward(retain_graph = True)\n",
    "    optimiser.step()\n",
    "    \n",
    "    if step % 1000 == 0:\n",
    "        print('step {}, loss {}'.format(step, cost.item()))\n",
    "\n",
    "predicted = model2.forward(X)\n",
    "correct = (model2.forward(X) > 0.5).float()\n",
    "accuracy = (correct == Y).float().mean()\n",
    "\n",
    "print('Prediction: ', predicted, '\\n Accuracy: ', accuracy.data)\n",
    "    "
   ]
  },
  {
   "cell_type": "code",
   "execution_count": null,
   "metadata": {},
   "outputs": [],
   "source": []
  },
  {
   "cell_type": "code",
   "execution_count": null,
   "metadata": {},
   "outputs": [],
   "source": []
  },
  {
   "cell_type": "markdown",
   "metadata": {},
   "source": [
    "## Deep NN for XOR"
   ]
  },
  {
   "cell_type": "code",
   "execution_count": 16,
   "metadata": {},
   "outputs": [],
   "source": [
    "class DeepNet(nn.Module):\n",
    "    def __init__(self):\n",
    "        super(DeepNet, self).__init__()\n",
    "        self.sigmoid = nn.Sigmoid()\n",
    "        self.linear1 = nn.Linear(input_dim, 10, bias = True)\n",
    "        self.linear2 = nn.Linear(10, 10, bias = True)\n",
    "        self.linear3 =  nn.Linear(10, 10, bias = True)\n",
    "        self.linear4 = nn.Linear(10,output_dim, bias = True)\n",
    "        self.model = nn.Sequential(self.linear1, self.sigmoid, \n",
    "                                   self.linear2, self.sigmoid,\n",
    "                                   self.linear3, self.sigmoid,\n",
    "                                   self.linear4, self.sigmoid,)\n",
    "\n",
    "    def forward(self, x):\n",
    "        outputs = self.model(x)\n",
    "        return outputs"
   ]
  },
  {
   "cell_type": "code",
   "execution_count": 17,
   "metadata": {},
   "outputs": [],
   "source": [
    "model3 = DeepNet()"
   ]
  },
  {
   "cell_type": "code",
   "execution_count": 26,
   "metadata": {},
   "outputs": [
    {
     "name": "stdout",
     "output_type": "stream",
     "text": [
      "step 0, loss 0.692841649055481\n",
      "step 1000, loss 0.4790301024913788\n",
      "step 2000, loss 0.0006271703750826418\n",
      "step 3000, loss 0.00030078564304858446\n",
      "step 4000, loss 0.00019702990539371967\n",
      "step 5000, loss 0.00014620722504332662\n",
      "step 6000, loss 0.00011613228707574308\n",
      "step 7000, loss 9.625178063288331e-05\n",
      "step 8000, loss 8.215387788368389e-05\n",
      "step 9000, loss 7.163275586208329e-05\n",
      "step 10000, loss 6.349610339384526e-05\n",
      "Prediction:  tensor([[0.0000],\n",
      "        [0.9999],\n",
      "        [0.9999],\n",
      "        [0.0000]], grad_fn=<SigmoidBackward>) \n",
      " Accuracy:  tensor(1.)\n"
     ]
    }
   ],
   "source": [
    "lr = 5\n",
    "optimiser = optim.SGD(model3.parameters(), lr = lr)\n",
    "criterion = nn.BCELoss(reduction = 'elementwise_mean')\n",
    "\n",
    "for step in range(10001):\n",
    "    optimiser.zero_grad()\n",
    "    \n",
    "    outputs = model3.forward(X)\n",
    "    cost = criterion(outputs, Y)\n",
    "    cost.backward(retain_graph = True)\n",
    "    optimiser.step()\n",
    "    \n",
    "    if step % 1000 == 0:\n",
    "        print('step {}, loss {}'.format(step, cost.item()))\n",
    "\n",
    "predicted = model3.forward(X)\n",
    "correct = (model3.forward(X) > 0.5).float()\n",
    "accuracy = (correct == Y).float().mean()\n",
    "\n",
    "print('Prediction: ', predicted, '\\n Accuracy: ', accuracy.data)"
   ]
  },
  {
   "cell_type": "code",
   "execution_count": null,
   "metadata": {},
   "outputs": [],
   "source": []
  }
 ],
 "metadata": {
  "kernelspec": {
   "display_name": "Python 3",
   "language": "python",
   "name": "python3"
  },
  "language_info": {
   "codemirror_mode": {
    "name": "ipython",
    "version": 3
   },
   "file_extension": ".py",
   "mimetype": "text/x-python",
   "name": "python",
   "nbconvert_exporter": "python",
   "pygments_lexer": "ipython3",
   "version": "3.6.5"
  }
 },
 "nbformat": 4,
 "nbformat_minor": 2
}
