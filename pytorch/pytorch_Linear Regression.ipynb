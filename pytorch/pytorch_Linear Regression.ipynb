{
 "cells": [
  {
   "cell_type": "code",
   "execution_count": 9,
   "metadata": {},
   "outputs": [],
   "source": [
    "import torch\n",
    "from torch import nn, optim\n",
    "import torch.nn.functional as F\n",
    "import torch.utils.data as data_utils\n",
    "from torch.autograd import Variable"
   ]
  },
  {
   "cell_type": "code",
   "execution_count": 89,
   "metadata": {},
   "outputs": [],
   "source": [
    "class LinearRegression(nn.Module):\n",
    "    def __init__(self, input_dim, output_dim):\n",
    "        #nn.Module.__init__() 실행\n",
    "        super(LinearRegression, self).__init__()\n",
    "        #nn.linear is defined in nn.Module\n",
    "        #Applies a linear transformation to the incoming data: :math:`y = xA^T + b`\n",
    "        self.linear = nn.Linear(input_dim, output_dim)\n",
    "        \n",
    "    def forward(self, x):\n",
    "        #forward pass => linear function\n",
    "        out = self.linear(x)\n",
    "        return out\n"
   ]
  },
  {
   "cell_type": "code",
   "execution_count": 105,
   "metadata": {},
   "outputs": [],
   "source": [
    "x_train = torch.tensor([[1],[2],[3]], dtype = torch.float32)\n",
    "y_train = torch.tensor([[1],[2],[3]], dtype = torch.float32)\n",
    "\n",
    "x_test = torch.tensor([4, 5, 6], dtype = torch.float32)\n",
    "y_test = torch.tensor([4,5,6], dtype = torch.float32)"
   ]
  },
  {
   "cell_type": "code",
   "execution_count": 106,
   "metadata": {},
   "outputs": [],
   "source": [
    "model = LinearRegression(1,1)\n",
    "\n",
    "#cost 정의_ Mean Squared Loss\n",
    "#Creates a criterion that measures the mean squared error between n elements in the input x and target y.\n",
    "cost = nn.MSELoss()\n",
    "\n",
    "#model의 parameters를 SGD를 통해 learning rate만큼 학습시키겠다.\n",
    "learning_rate = 0.01\n",
    "optimiser = torch.optim.SGD(model.parameters(), lr = learning_rate)\n",
    "\n",
    "#data를 200번 돌려서 학습시키겠다.\n",
    "epochs = 1000"
   ]
  },
  {
   "cell_type": "markdown",
   "metadata": {},
   "source": [
    "### Training the Model"
   ]
  },
  {
   "cell_type": "code",
   "execution_count": 107,
   "metadata": {},
   "outputs": [
    {
     "name": "stdout",
     "output_type": "stream",
     "text": [
      "tensor([[0.8942]])\n",
      "tensor([-0.1459])\n",
      "epoch  20, loss  0.17095501720905304\n",
      "tensor([[1.0213]])\n",
      "tensor([-0.0853])\n",
      "epoch  40, loss  0.0024488645140081644\n",
      "tensor([[1.0320]])\n",
      "tensor([-0.0762])\n",
      "epoch  60, loss  0.0008385554538108408\n",
      "tensor([[1.0316]])\n",
      "tensor([-0.0721])\n",
      "epoch  80, loss  0.0007490270654670894\n",
      "tensor([[1.0302]])\n",
      "tensor([-0.0687])\n",
      "epoch  100, loss  0.0006801635609008372\n",
      "tensor([[1.0288]])\n",
      "tensor([-0.0655])\n",
      "epoch  120, loss  0.0006177345057949424\n",
      "tensor([[1.0274]])\n",
      "tensor([-0.0624])\n",
      "epoch  140, loss  0.0005610361695289612\n",
      "tensor([[1.0262]])\n",
      "tensor([-0.0595])\n",
      "epoch  160, loss  0.0005095443921163678\n",
      "tensor([[1.0249]])\n",
      "tensor([-0.0567])\n",
      "epoch  180, loss  0.0004627743037417531\n",
      "tensor([[1.0238]])\n",
      "tensor([-0.0540])\n",
      "epoch  200, loss  0.00042030232725664973\n",
      "tensor([[1.0226]])\n",
      "tensor([-0.0515])\n",
      "epoch  220, loss  0.00038172397762537\n",
      "tensor([[1.0216]])\n",
      "tensor([-0.0490])\n",
      "epoch  240, loss  0.00034669029992073774\n",
      "tensor([[1.0206]])\n",
      "tensor([-0.0467])\n",
      "epoch  260, loss  0.0003148678515572101\n",
      "tensor([[1.0196]])\n",
      "tensor([-0.0445])\n",
      "epoch  280, loss  0.00028596504125744104\n",
      "tensor([[1.0187]])\n",
      "tensor([-0.0424])\n",
      "epoch  300, loss  0.00025971821742132306\n",
      "tensor([[1.0178]])\n",
      "tensor([-0.0405])\n",
      "epoch  320, loss  0.0002358783531235531\n",
      "tensor([[1.0170]])\n",
      "tensor([-0.0386])\n",
      "epoch  340, loss  0.00021422855206765234\n",
      "tensor([[1.0162]])\n",
      "tensor([-0.0367])\n",
      "epoch  360, loss  0.00019456660083960742\n",
      "tensor([[1.0154]])\n",
      "tensor([-0.0350])\n",
      "epoch  380, loss  0.00017670891247689724\n",
      "tensor([[1.0147]])\n",
      "tensor([-0.0334])\n",
      "epoch  400, loss  0.0001604880962986499\n",
      "tensor([[1.0140]])\n",
      "tensor([-0.0318])\n",
      "epoch  420, loss  0.0001457585603930056\n",
      "tensor([[1.0133]])\n",
      "tensor([-0.0303])\n",
      "epoch  440, loss  0.0001323799224337563\n",
      "tensor([[1.0127]])\n",
      "tensor([-0.0289])\n",
      "epoch  460, loss  0.00012022985174553469\n",
      "tensor([[1.0121]])\n",
      "tensor([-0.0275])\n",
      "epoch  480, loss  0.00010919560008915141\n",
      "tensor([[1.0115]])\n",
      "tensor([-0.0262])\n",
      "epoch  500, loss  9.917368151945993e-05\n",
      "tensor([[1.0110]])\n",
      "tensor([-0.0250])\n",
      "epoch  520, loss  9.007130574900657e-05\n",
      "tensor([[1.0105]])\n",
      "tensor([-0.0238])\n",
      "epoch  540, loss  8.18049447843805e-05\n",
      "tensor([[1.0100]])\n",
      "tensor([-0.0227])\n",
      "epoch  560, loss  7.429628749378026e-05\n",
      "tensor([[1.0095]])\n",
      "tensor([-0.0216])\n",
      "epoch  580, loss  6.74757466185838e-05\n",
      "tensor([[1.0091]])\n",
      "tensor([-0.0206])\n",
      "epoch  600, loss  6.128373206593096e-05\n",
      "tensor([[1.0086]])\n",
      "tensor([-0.0196])\n",
      "epoch  620, loss  5.565870742429979e-05\n",
      "tensor([[1.0082]])\n",
      "tensor([-0.0187])\n",
      "epoch  640, loss  5.054965367889963e-05\n",
      "tensor([[1.0079]])\n",
      "tensor([-0.0178])\n",
      "epoch  660, loss  4.59094371763058e-05\n",
      "tensor([[1.0075]])\n",
      "tensor([-0.0170])\n",
      "epoch  680, loss  4.169658132013865e-05\n",
      "tensor([[1.0071]])\n",
      "tensor([-0.0162])\n",
      "epoch  700, loss  3.7869453080929816e-05\n",
      "tensor([[1.0068]])\n",
      "tensor([-0.0154])\n",
      "epoch  720, loss  3.439390638959594e-05\n",
      "tensor([[1.0065]])\n",
      "tensor([-0.0147])\n",
      "epoch  740, loss  3.123741043964401e-05\n",
      "tensor([[1.0062]])\n",
      "tensor([-0.0140])\n",
      "epoch  760, loss  2.837006286426913e-05\n",
      "tensor([[1.0059]])\n",
      "tensor([-0.0134])\n",
      "epoch  780, loss  2.576628867245745e-05\n",
      "tensor([[1.0056]])\n",
      "tensor([-0.0127])\n",
      "epoch  800, loss  2.3401120415655896e-05\n",
      "tensor([[1.0053]])\n",
      "tensor([-0.0121])\n",
      "epoch  820, loss  2.125331957358867e-05\n",
      "tensor([[1.0051]])\n",
      "tensor([-0.0116])\n",
      "epoch  840, loss  1.930323924170807e-05\n",
      "tensor([[1.0049]])\n",
      "tensor([-0.0110])\n",
      "epoch  860, loss  1.7531461708131246e-05\n",
      "tensor([[1.0046]])\n",
      "tensor([-0.0105])\n",
      "epoch  880, loss  1.592269109096378e-05\n",
      "tensor([[1.0044]])\n",
      "tensor([-0.0100])\n",
      "epoch  900, loss  1.4460854799835943e-05\n",
      "tensor([[1.0042]])\n",
      "tensor([-0.0095])\n",
      "epoch  920, loss  1.3133883840055205e-05\n",
      "tensor([[1.0040]])\n",
      "tensor([-0.0091])\n",
      "epoch  940, loss  1.1928259482374415e-05\n",
      "tensor([[1.0038]])\n",
      "tensor([-0.0087])\n",
      "epoch  960, loss  1.083408005797537e-05\n",
      "tensor([[1.0036]])\n",
      "tensor([-0.0083])\n",
      "epoch  980, loss  9.839860467764083e-06\n",
      "tensor([[1.0035]])\n",
      "tensor([-0.0079])\n",
      "epoch  1000, loss  8.936556696426123e-06\n"
     ]
    }
   ],
   "source": [
    "loss_ = []\n",
    "outputs_ = []\n",
    "\n",
    "for epoch in range(1, epochs+1):\n",
    "    #Variable: Wraps a tensor and records the operations applied to it\n",
    "    x_train = Variable(x_train)\n",
    "    y_train = Variable(y_train)\n",
    "    \n",
    "    #Clears the gradients of all optimized  tensors (set gradients as 0)\n",
    "    optimiser.zero_grad()\n",
    "    \n",
    "    #forward to get predicted values\n",
    "    outputs = model.forward(x_train)\n",
    "    loss = cost(outputs, y_train)\n",
    "    loss.backward()  #apply backpropagation\n",
    "    optimiser.step()  #update the parameters\n",
    "    if epoch % 20 == 0:\n",
    "        for param in model.parameters():\n",
    "            print(param.data)\n",
    "        print('epoch  {}, loss  {}'.format(epoch, loss.item()))"
   ]
  },
  {
   "cell_type": "code",
   "execution_count": 88,
   "metadata": {},
   "outputs": [
    {
     "name": "stdout",
     "output_type": "stream",
     "text": [
      "Parameter containing:\n",
      "tensor([[ 0.1070,  0.3630,  0.0878],\n",
      "        [-0.1035,  0.6541,  0.2369],\n",
      "        [ 0.6260,  0.5644,  0.5179]], requires_grad=True)\n",
      "Parameter containing:\n",
      "tensor([-0.0963,  0.0844, -0.3085], requires_grad=True)\n"
     ]
    }
   ],
   "source": [
    "for i in model.linear.parameters():\n",
    "    print(i)"
   ]
  },
  {
   "cell_type": "markdown",
   "metadata": {},
   "source": [
    "### Print the Predicted Values"
   ]
  },
  {
   "cell_type": "code",
   "execution_count": 108,
   "metadata": {},
   "outputs": [],
   "source": [
    "#예측값을 tensor에서 numpy로 바꾸기\n",
    "predicted = model.forward(Variable(x_train)).data.numpy()"
   ]
  },
  {
   "cell_type": "code",
   "execution_count": 109,
   "metadata": {},
   "outputs": [
    {
     "data": {
      "text/plain": [
       "array([[0.99559  ],\n",
       "       [1.9990536],\n",
       "       [3.0025172]], dtype=float32)"
      ]
     },
     "execution_count": 109,
     "metadata": {},
     "output_type": "execute_result"
    }
   ],
   "source": [
    "predicted"
   ]
  },
  {
   "cell_type": "code",
   "execution_count": 104,
   "metadata": {},
   "outputs": [
    {
     "name": "stdout",
     "output_type": "stream",
     "text": [
      "OrderedDict([('linear.weight', tensor([[-0.3279,  0.3482,  0.3086],\n",
      "        [ 0.0886,  0.0237,  0.7685],\n",
      "        [ 0.2684,  0.4089,  0.4987]])), ('linear.bias', tensor([-0.2943, -0.4413,  0.4178]))])\n"
     ]
    },
    {
     "data": {
      "image/png": "[encoded data removed]",
      "text/plain": [
       "<Figure size 432x288 with 1 Axes>"
      ]
     },
     "metadata": {},
     "output_type": "display_data"
    }
   ],
   "source": [
    "import matplotlib.pyplot as plt\n",
    "%matplotlib inline\n",
    "\n",
    "plt.plot(x_train.numpy(), y_train.numpy(), 'go', label = 'from data', alpha = .5)\n",
    "plt.plot(x_train.numpy(), predicted, label = 'prediction', alpha = 0.5)\n",
    "plt.legend()\n",
    "print(model.state_dict())"
   ]
  },
  {
   "cell_type": "code",
   "execution_count": null,
   "metadata": {},
   "outputs": [],
   "source": []
  }
 ],
 "metadata": {
  "kernelspec": {
   "display_name": "Python 3",
   "language": "python",
   "name": "python3"
  },
  "language_info": {
   "codemirror_mode": {
    "name": "ipython",
    "version": 3
   },
   "file_extension": ".py",
   "mimetype": "text/x-python",
   "name": "python",
   "nbconvert_exporter": "python",
   "pygments_lexer": "ipython3",
   "version": "3.6.5"
  }
 },
 "nbformat": 4,
 "nbformat_minor": 2
}
