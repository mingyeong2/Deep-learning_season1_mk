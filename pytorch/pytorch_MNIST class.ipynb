{
 "cells": [
  {
   "cell_type": "code",
   "execution_count": 1,
   "metadata": {},
   "outputs": [],
   "source": [
    "import torch\n",
    "from torch import nn, optim\n",
    "from torch.autograd import Variable\n",
    "import numpy as np\n",
    "import torchvision\n",
    "import torchvision.datasets as datasets\n",
    "import torchvision.transforms as transforms\n",
    "import torch.utils.data as Data"
   ]
  },
  {
   "cell_type": "code",
   "execution_count": 2,
   "metadata": {},
   "outputs": [],
   "source": [
    "#MNIST data\n",
    "mnist_trainset = datasets.MNIST(root = './data',train =True,transform=transforms.ToTensor(),download=True)\n",
    "mnist_testset = datasets.MNIST(root = './data', train = False, transform=transforms.ToTensor(),download=True)\n",
    "\n",
    "\n",
    "#parameters\n",
    "lr = 0.001\n",
    "epochs = 15\n",
    "batch_size = 20\n",
    "\n",
    "#data\n",
    "traindata = Data.DataLoader(dataset=mnist_trainset, batch_size=batch_size, shuffle=True)"
   ]
  },
  {
   "cell_type": "code",
   "execution_count": 11,
   "metadata": {},
   "outputs": [],
   "source": [
    "class CNNClass(nn.Module):\n",
    "    \n",
    "    def __init__(self):\n",
    "        super(CNNClass, self).__init__()\n",
    "        self._build_net()\n",
    "        \n",
    "    def _build_net(self):\n",
    "        self.keep_prob = 0.7\n",
    "        #Image shape = (-1, 28, 28, 1)\n",
    "        #Conv => (-1, 28, 28, 32)\n",
    "        #output shape => (-1, 14, 14, 32)\n",
    "        self.layer1 = nn.Sequential(nn.Conv2d(1, 32,kernel_size = 3, stride= 1, padding = 1),\n",
    "                                      nn.ReLU(), nn.MaxPool2d(kernel_size = 2, stride = 2),\n",
    "                                       nn.Dropout(p = 1 - self.keep_prob))\n",
    "        \n",
    "        #Conv => (-1, 14, 14, 64)\n",
    "        #Pool => (-1, 7, 7, 64)\n",
    "        self.layer2 = nn.Sequential(nn.Conv2d(32, 64, kernel_size = 3, stride = 1, padding = 1),\n",
    "                                     nn.ReLU(), nn.MaxPool2d(kernel_size = 2, stride = 2),\n",
    "                                       nn.Dropout(p = 1 - self.keep_prob))\n",
    "        \n",
    "        #Conv => (-1, 7, 7, 128)\n",
    "        #Pool => (-1, 4, 4, 128)\n",
    "        self.layer3 = nn.Sequential(nn.Conv2d(64, 128, kernel_size = 3, stride = 1, padding = 1),\n",
    "                                     nn.ReLU(), nn.MaxPool2d(kernel_size = 2, stride = 2, padding = 1),\n",
    "                                       nn.Dropout(p = 1 - self.keep_prob))\n",
    "        \n",
    "        #L4:  (4*4*128) inputs => (625) outputs\n",
    "        self.fc1 = nn.Linear(4*4*128, 625, bias = True)\n",
    "        nn.init.xavier_uniform_(self.fc1.weight)\n",
    "        self.layer4 = nn.Sequential(self.fc1, nn.ReLU(),\n",
    "                                   nn.Dropout(p = 1- self.keep_prob))\n",
    "        #L5  (625) inputs => 10 outputs\n",
    "        self.fc2 = nn.Linear(625, 10, bias = True)\n",
    "        nn.init.xavier_uniform_(self.fc2.weight)\n",
    "        \n",
    "        #define cost & optimizer\n",
    "        self.criterion = nn.CrossEntropyLoss()\n",
    "        self.optimizer = optim.Adam(self.parameters(), lr = lr)\n",
    "        \n",
    "    def forward(self, data):\n",
    "        outputs = self.layer1(data)\n",
    "        outputs = self.layer2(outputs)\n",
    "        outputs = self.layer3(outputs)\n",
    "        outputs = outputs.view(outputs.size(0), -1)\n",
    "        outputs = self.layer4(outputs)\n",
    "        outputs = self.fc2(outputs)\n",
    "        return outputs\n",
    "    \n",
    "    def train_(self, data, label):\n",
    "        self.train()  #sets the modelu in training model\n",
    "        self.optimizer.zero_grad()\n",
    "        outputs = self.forward(data)\n",
    "        self.cost = self.criterion(outputs, label)\n",
    "        self.cost.backward()\n",
    "        self.optimizer.step()\n",
    "        return self.cost\n",
    "    \n",
    "    def predict(self, x):\n",
    "        self.eval() # set the model to evaluation mode (dropout = False)\n",
    "        return self.forward(x)\n",
    "    \n",
    "    def accuracy(self, x, y):\n",
    "        prediction = self.predict(x)\n",
    "        correct = (prediction == y).float()\n",
    "        accuracy = correct.mean()\n",
    "        return accuracy\n",
    "        "
   ]
  },
  {
   "cell_type": "code",
   "execution_count": 12,
   "metadata": {},
   "outputs": [
    {
     "data": {
      "text/plain": [
       "CNNClass(\n",
       "  (layer1): Sequential(\n",
       "    (0): Conv2d(1, 32, kernel_size=(3, 3), stride=(1, 1), padding=(1, 1))\n",
       "    (1): ReLU()\n",
       "    (2): MaxPool2d(kernel_size=2, stride=2, padding=0, dilation=1, ceil_mode=False)\n",
       "    (3): Dropout(p=0.30000000000000004)\n",
       "  )\n",
       "  (layer2): Sequential(\n",
       "    (0): Conv2d(32, 64, kernel_size=(3, 3), stride=(1, 1), padding=(1, 1))\n",
       "    (1): ReLU()\n",
       "    (2): MaxPool2d(kernel_size=2, stride=2, padding=0, dilation=1, ceil_mode=False)\n",
       "    (3): Dropout(p=0.30000000000000004)\n",
       "  )\n",
       "  (layer3): Sequential(\n",
       "    (0): Conv2d(64, 128, kernel_size=(3, 3), stride=(1, 1), padding=(1, 1))\n",
       "    (1): ReLU()\n",
       "    (2): MaxPool2d(kernel_size=2, stride=2, padding=1, dilation=1, ceil_mode=False)\n",
       "    (3): Dropout(p=0.30000000000000004)\n",
       "  )\n",
       "  (fc1): Linear(in_features=2048, out_features=625, bias=True)\n",
       "  (layer4): Sequential(\n",
       "    (0): Linear(in_features=2048, out_features=625, bias=True)\n",
       "    (1): ReLU()\n",
       "    (2): Dropout(p=0.30000000000000004)\n",
       "  )\n",
       "  (fc2): Linear(in_features=625, out_features=10, bias=True)\n",
       "  (criterion): CrossEntropyLoss()\n",
       ")"
      ]
     },
     "execution_count": 12,
     "metadata": {},
     "output_type": "execute_result"
    }
   ],
   "source": [
    "#model\n",
    "model = CNNClass()\n",
    "model.cuda()"
   ]
  },
  {
   "cell_type": "code",
   "execution_count": 6,
   "metadata": {},
   "outputs": [
    {
     "name": "stdout",
     "output_type": "stream",
     "text": [
      "Epoch 1, cost = 7.820447649464768e-07\n",
      "Epoch 2, cost = 0.0001486598775954917\n",
      "Epoch 3, cost = 9.090662160815555e-07\n",
      "Epoch 4, cost = 3.6160152205866325e-08\n",
      "Epoch 5, cost = 1.6715684978407808e-06\n",
      "Epoch 6, cost = 1.9720396267075557e-06\n",
      "Epoch 7, cost = 9.77579702521325e-07\n",
      "Epoch 8, cost = 2.3463566378723044e-07\n",
      "Epoch 9, cost = 1.0434587238705717e-06\n",
      "Epoch 10, cost = 6.192246928549139e-06\n"
     ]
    }
   ],
   "source": [
    "epochs = 10\n",
    "\n",
    "for epoch in range(1, epochs+1):\n",
    "    avg_cost = 0\n",
    "    total_batch = len(mnist_trainset) // batch_size\n",
    "    for i, (batch_xs, batch_ys) in enumerate(traindata):\n",
    "        X = Variable(batch_xs.cuda())\n",
    "        Y = Variable(batch_ys.cuda())\n",
    "        \n",
    "        cost = model.train_(X, Y)\n",
    "        \n",
    "        avg_cost = cost / total_batch\n",
    "        \n",
    "    print('Epoch {}, cost = {}'.format(epoch, avg_cost))"
   ]
  },
  {
   "cell_type": "code",
   "execution_count": null,
   "metadata": {},
   "outputs": [],
   "source": []
  },
  {
   "cell_type": "code",
   "execution_count": null,
   "metadata": {},
   "outputs": [],
   "source": []
  }
 ],
 "metadata": {
  "kernelspec": {
   "display_name": "Python 3",
   "language": "python",
   "name": "python3"
  },
  "language_info": {
   "codemirror_mode": {
    "name": "ipython",
    "version": 3
   },
   "file_extension": ".py",
   "mimetype": "text/x-python",
   "name": "python",
   "nbconvert_exporter": "python",
   "pygments_lexer": "ipython3",
   "version": "3.6.5"
  }
 },
 "nbformat": 4,
 "nbformat_minor": 2
}
