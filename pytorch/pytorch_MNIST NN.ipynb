{
 "cells": [
  {
   "cell_type": "markdown",
   "metadata": {},
   "source": [
    "# NN for MNIST\n",
    "* more layers than softmax + ReLU"
   ]
  },
  {
   "cell_type": "code",
   "execution_count": 18,
   "metadata": {},
   "outputs": [],
   "source": [
    "import torch\n",
    "from torch import nn, optim\n",
    "from torch.autograd import Variable\n",
    "import numpy as np\n",
    "import torchvision\n",
    "import torchvision.datasets as datasets\n",
    "import torchvision.transforms as transforms\n",
    "import torch.utils.data as Data"
   ]
  },
  {
   "cell_type": "code",
   "execution_count": 53,
   "metadata": {},
   "outputs": [],
   "source": [
    "class MNIST_NN(nn.Module):\n",
    "    def __init__(self):\n",
    "        super(MNIST_NN, self).__init__()\n",
    "        self.relu = nn.ReLU()\n",
    "        self.linear1 = nn.Linear(784, 256, bias = True)\n",
    "        self.linear2 = nn.Linear(256, 256, bias = True)\n",
    "        self.linear3 = nn.Linear(256, 10, bias = True)\n",
    "        self.model = nn.Sequential(self.linear1, self.relu,\n",
    "                                   self.linear2, self.relu,\n",
    "                                   self.linear3)\n",
    "        \n",
    "    def forward(self, data):\n",
    "        outputs = self.model(data)\n",
    "        return outputs"
   ]
  },
  {
   "cell_type": "code",
   "execution_count": 54,
   "metadata": {},
   "outputs": [],
   "source": [
    "#MNIST data\n",
    "mnist_trainset = datasets.MNIST(root = './data',train =True,transform=transforms.ToTensor(),download=True)\n",
    "mnist_testset = datasets.MNIST(root = './data', train = False, transform=transforms.ToTensor(),download=True)"
   ]
  },
  {
   "cell_type": "code",
   "execution_count": 55,
   "metadata": {},
   "outputs": [],
   "source": [
    "model = MNIST_NN()\n",
    "\n",
    "#parameters\n",
    "lr = 0.01\n",
    "epochs = 15\n",
    "batch_size = 100\n",
    "\n",
    "#data\n",
    "traindata = Data.DataLoader(dataset=mnist_trainset, batch_size=batch_size, shuffle=True)\n",
    "\n",
    "#Optimizer / cost\n",
    "optimizer = optim.Adam(model.parameters(), lr = lr)\n",
    "criterion = nn.CrossEntropyLoss()  #Sotfmax is internally computed"
   ]
  },
  {
   "cell_type": "code",
   "execution_count": 56,
   "metadata": {},
   "outputs": [
    {
     "name": "stdout",
     "output_type": "stream",
     "text": [
      "epoch  1,  loss 0.23607602715492249\n",
      "epoch  2,  loss 0.1395534723997116\n",
      "epoch  3,  loss 0.11366860568523407\n",
      "epoch  4,  loss 0.10406602174043655\n",
      "epoch  5,  loss 0.08936727046966553\n",
      "epoch  6,  loss 0.09181848913431168\n",
      "epoch  7,  loss 0.08038211613893509\n",
      "epoch  8,  loss 0.07555294036865234\n",
      "epoch  9,  loss 0.07662954926490784\n",
      "epoch  10,  loss 0.06711594760417938\n",
      "epoch  11,  loss 0.07028888165950775\n",
      "epoch  12,  loss 0.0611613467335701\n",
      "epoch  13,  loss 0.0657026544213295\n",
      "epoch  14,  loss 0.06251231580972672\n",
      "epoch  15,  loss 0.05607284978032112\n"
     ]
    }
   ],
   "source": [
    "for epoch in range(1, epochs +1):\n",
    "    avg_cost = 0\n",
    "    total_batch = len(mnist_trainset) // batch_size\n",
    "    \n",
    "    for i, (batch_xs, batch_ys) in enumerate(traindata):\n",
    "        X = Variable(batch_xs.view(-1, 28*28)) #from image to numeric data\n",
    "        Y = Variable(batch_ys)  #not ont-hot\n",
    "        \n",
    "        optimizer.zero_grad()\n",
    "        outputs = model.forward(X)\n",
    "        cost = criterion(outputs, Y)\n",
    "        cost.backward()\n",
    "        optimizer.step()\n",
    "        \n",
    "        avg_cost += cost / total_batch\n",
    "        \n",
    "    print('epoch  {},  loss {}'.format(epoch, avg_cost))"
   ]
  },
  {
   "cell_type": "code",
   "execution_count": 57,
   "metadata": {},
   "outputs": [
    {
     "name": "stdout",
     "output_type": "stream",
     "text": [
      "Accuracy: 0.9690999984741211\n"
     ]
    }
   ],
   "source": [
    "#Test the model and check accuracy\n",
    "X_test = Variable(mnist_testset.test_data.view(-1, 28 * 28).float())\n",
    "Y_test = Variable(mnist_testset.test_labels)\n",
    "\n",
    "prediction = model(X_test)\n",
    "correct_prediction = (prediction.argmax(1) == Y_test)\n",
    "accuracy = correct_prediction.float().mean()\n",
    "print('Accuracy:', accuracy.item())"
   ]
  },
  {
   "cell_type": "code",
   "execution_count": null,
   "metadata": {},
   "outputs": [],
   "source": []
  },
  {
   "cell_type": "markdown",
   "metadata": {},
   "source": [
    "# Xavier Initialization"
   ]
  },
  {
   "cell_type": "code",
   "execution_count": 58,
   "metadata": {},
   "outputs": [],
   "source": [
    "class Xavier_NN(nn.Module):\n",
    "    def __init__(self):\n",
    "        super(Xavier_NN, self).__init__()\n",
    "        self.relu = nn.ReLU()\n",
    "        self.linear1 = nn.Linear(784, 256, bias = True)\n",
    "        self.linear2 = nn.Linear(256, 256, bias = True)\n",
    "        self.linear3 = nn.Linear(256, 10, bias = True)\n",
    "        \n",
    "        #Xavier initializer\n",
    "        nn.init.xavier_uniform_(self.linear1.weight)\n",
    "        nn.init.xavier_uniform_(self.linear2.weight)\n",
    "        nn.init.xavier_uniform_(self.linear3.weight)\n",
    "        \n",
    "        self.model = nn.Sequential(self.linear1, self.relu,\n",
    "                                   self.linear2, self.relu,\n",
    "                                   self.linear3)\n",
    "        \n",
    "    def forward(self, data):\n",
    "        outputs = self.model(data)\n",
    "        return outputs"
   ]
  },
  {
   "cell_type": "code",
   "execution_count": 59,
   "metadata": {},
   "outputs": [],
   "source": [
    "model_X = Xavier_NN()\n",
    "\n",
    "\n",
    "optimizer = optim.Adam(model_X.parameters(), lr = lr) #Optimizer\n",
    "criterion = nn.CrossEntropyLoss()  #Sotfmax is internally computed"
   ]
  },
  {
   "cell_type": "code",
   "execution_count": 60,
   "metadata": {},
   "outputs": [
    {
     "name": "stdout",
     "output_type": "stream",
     "text": [
      "epoch  1,  loss 0.23538334667682648\n",
      "epoch  2,  loss 0.14147844910621643\n",
      "epoch  3,  loss 0.11603114008903503\n",
      "epoch  4,  loss 0.10626893490552902\n",
      "epoch  5,  loss 0.10493173450231552\n",
      "epoch  6,  loss 0.0902472659945488\n",
      "epoch  7,  loss 0.08121168613433838\n",
      "epoch  8,  loss 0.08487104624509811\n",
      "epoch  9,  loss 0.07300370186567307\n",
      "epoch  10,  loss 0.06213495507836342\n",
      "epoch  11,  loss 0.06859105825424194\n",
      "epoch  12,  loss 0.06452157348394394\n",
      "epoch  13,  loss 0.06314702332019806\n",
      "epoch  14,  loss 0.06860172748565674\n",
      "epoch  15,  loss 0.05719377472996712\n"
     ]
    }
   ],
   "source": [
    "for epoch in range(1, epochs +1):\n",
    "    avg_cost = 0\n",
    "    total_batch = len(mnist_trainset) // batch_size\n",
    "    \n",
    "    for i, (batch_xs, batch_ys) in enumerate(traindata):\n",
    "        X = Variable(batch_xs.view(-1, 28*28)) #from image to numeric data\n",
    "        Y = Variable(batch_ys)  #not ont-hot\n",
    "        \n",
    "        optimizer.zero_grad()\n",
    "        outputs = model_X.forward(X)\n",
    "        cost = criterion(outputs, Y)\n",
    "        cost.backward()\n",
    "        optimizer.step()\n",
    "        \n",
    "        avg_cost += cost / total_batch\n",
    "        \n",
    "    print('epoch  {},  loss {}'.format(epoch, avg_cost))"
   ]
  },
  {
   "cell_type": "code",
   "execution_count": 61,
   "metadata": {},
   "outputs": [
    {
     "name": "stdout",
     "output_type": "stream",
     "text": [
      "Accuracy: 0.9731000065803528\n"
     ]
    }
   ],
   "source": [
    "#Test the model and check accuracy\n",
    "X_test = Variable(mnist_testset.test_data.view(-1, 28 * 28).float())\n",
    "Y_test = Variable(mnist_testset.test_labels)\n",
    "\n",
    "prediction = model_X(X_test)\n",
    "correct_prediction = (prediction.argmax(1) == Y_test)\n",
    "accuracy = correct_prediction.float().mean()\n",
    "print('Accuracy:', accuracy.item())"
   ]
  },
  {
   "cell_type": "code",
   "execution_count": null,
   "metadata": {},
   "outputs": [],
   "source": []
  },
  {
   "cell_type": "markdown",
   "metadata": {},
   "source": [
    "# Deep NN for MNIST\n",
    "* add 2 layers and increase # of nodes!"
   ]
  },
  {
   "cell_type": "code",
   "execution_count": 62,
   "metadata": {},
   "outputs": [],
   "source": [
    "class Deep_NN(nn.Module):\n",
    "    def __init__(self):\n",
    "        super(Deep_NN, self).__init__()\n",
    "        self.relu = nn.ReLU()\n",
    "        self.linear1 = nn.Linear(784, 512, bias = True)\n",
    "        self.linear2 = nn.Linear(512, 512, bias = True)\n",
    "        self.linear3 = nn.Linear(512, 512, bias = True)\n",
    "        self.linear4 = nn.Linear(512, 512, bias = True)\n",
    "        self.linear5 = nn.Linear(512, 10, bias = True)\n",
    "        \n",
    "        #Xavier initializer\n",
    "        nn.init.xavier_uniform_(self.linear1.weight)\n",
    "        nn.init.xavier_uniform_(self.linear2.weight)\n",
    "        nn.init.xavier_uniform_(self.linear3.weight)\n",
    "        nn.init.xavier_uniform_(self.linear4.weight)\n",
    "        nn.init.xavier_uniform_(self.linear5.weight)\n",
    "        \n",
    "        self.model = nn.Sequential(self.linear1, self.relu,\n",
    "                                   self.linear2, self.relu,\n",
    "                                   self.linear3, self.relu,\n",
    "                                   self.linear4, self.relu,\n",
    "                                   self.linear5)\n",
    "        \n",
    "    def forward(self, data):\n",
    "        outputs = self.model(data)\n",
    "        return outputs"
   ]
  },
  {
   "cell_type": "code",
   "execution_count": 63,
   "metadata": {},
   "outputs": [],
   "source": [
    "model_D = Deep_NN()\n",
    "\n",
    "lr = 0.01\n",
    "criterion = nn.CrossEntropyLoss()\n",
    "optimizer = optim.Adam(model_D.parameters(), lr = lr)"
   ]
  },
  {
   "cell_type": "code",
   "execution_count": 64,
   "metadata": {},
   "outputs": [
    {
     "name": "stdout",
     "output_type": "stream",
     "text": [
      "epoch  1,  loss 0.3862922787666321\n",
      "epoch  2,  loss 0.21096588671207428\n",
      "epoch  3,  loss 0.1832371950149536\n",
      "epoch  4,  loss 0.1688367873430252\n",
      "epoch  5,  loss 0.15225964784622192\n",
      "epoch  6,  loss 0.16192306578159332\n",
      "epoch  7,  loss 0.1538003832101822\n",
      "epoch  8,  loss 0.13886702060699463\n",
      "epoch  9,  loss 0.11756253242492676\n",
      "epoch  10,  loss 0.12512308359146118\n",
      "epoch  11,  loss 0.11533062160015106\n",
      "epoch  12,  loss 0.12324825674295425\n",
      "epoch  13,  loss 0.11090489476919174\n",
      "epoch  14,  loss 0.11754362285137177\n",
      "epoch  15,  loss 0.10756530612707138\n"
     ]
    }
   ],
   "source": [
    "for epoch in range(1, epochs +1):\n",
    "    avg_cost = 0\n",
    "    total_batch = len(mnist_trainset) // batch_size\n",
    "    \n",
    "    for i, (batch_xs, batch_ys) in enumerate(traindata):\n",
    "        X = Variable(batch_xs.view(-1, 28*28)) #from image to numeric data\n",
    "        Y = Variable(batch_ys)  #not ont-hot\n",
    "        \n",
    "        optimizer.zero_grad()\n",
    "        outputs = model_D.forward(X)\n",
    "        cost = criterion(outputs, Y)\n",
    "        cost.backward()\n",
    "        optimizer.step()\n",
    "        \n",
    "        avg_cost += cost / total_batch\n",
    "        \n",
    "    print('epoch  {},  loss {}'.format(epoch, avg_cost))"
   ]
  },
  {
   "cell_type": "code",
   "execution_count": 65,
   "metadata": {},
   "outputs": [
    {
     "name": "stdout",
     "output_type": "stream",
     "text": [
      "Accuracy: 0.9498000144958496\n"
     ]
    }
   ],
   "source": [
    "#Test the model and check accuracy\n",
    "X_test = Variable(mnist_testset.test_data.view(-1, 28 * 28).float())\n",
    "Y_test = Variable(mnist_testset.test_labels)\n",
    "\n",
    "prediction = model_D(X_test)\n",
    "correct_prediction = (prediction.argmax(1) == Y_test)\n",
    "accuracy = correct_prediction.float().mean()\n",
    "print('Accuracy:', accuracy.item())"
   ]
  },
  {
   "cell_type": "markdown",
   "metadata": {},
   "source": [
    "Even though this model is deeper than before, the accuracy is lower.\n",
    "This is because of overfitting.\n",
    "We can solve this problem by dropout."
   ]
  },
  {
   "cell_type": "markdown",
   "metadata": {},
   "source": [
    "# Dropout for MNIST\n",
    "* In general, p is in range(0.3, 0.5)\n",
    "* When test the model, sholud use p = 1"
   ]
  },
  {
   "cell_type": "code",
   "execution_count": 67,
   "metadata": {},
   "outputs": [],
   "source": [
    "class Dropout_NN(nn.Module):\n",
    "    def __init__(self):\n",
    "        super(Dropout_NN, self).__init__()\n",
    "        self.relu = nn.ReLU()\n",
    "        self.drop = nn.Dropout(1-keep_prob)\n",
    "        self.linear1 = nn.Linear(784, 512, bias = True)\n",
    "        self.linear2 = nn.Linear(512, 512, bias = True)\n",
    "        self.linear3 = nn.Linear(512, 512, bias = True)\n",
    "        self.linear4 = nn.Linear(512, 512, bias = True)\n",
    "        self.linear5 = nn.Linear(512, 10, bias = True)\n",
    "        \n",
    "        #Xavier initializer\n",
    "        nn.init.xavier_uniform_(self.linear1.weight)\n",
    "        nn.init.xavier_uniform_(self.linear2.weight)\n",
    "        nn.init.xavier_uniform_(self.linear3.weight)\n",
    "        nn.init.xavier_uniform_(self.linear4.weight)\n",
    "        nn.init.xavier_uniform_(self.linear5.weight)\n",
    "        \n",
    "        self.model = nn.Sequential(self.linear1, self.relu, self.drop,\n",
    "                                   self.linear2, self.relu, self.drop,\n",
    "                                   self.linear3, self.relu, self.drop,\n",
    "                                   self.linear4, self.relu, self.drop,\n",
    "                                   self.linear5)\n",
    "        \n",
    "    def forward(self, data):\n",
    "        outputs = self.model(data)\n",
    "        return outputs"
   ]
  },
  {
   "cell_type": "code",
   "execution_count": 72,
   "metadata": {},
   "outputs": [],
   "source": [
    "keep_prob = 0.7\n",
    "model_Drop = Dropout_NN()\n",
    "\n",
    "lr = 0.001\n",
    "criterion = nn.CrossEntropyLoss()\n",
    "optimizer = optim.Adam(model_Drop.parameters(), lr = lr)"
   ]
  },
  {
   "cell_type": "code",
   "execution_count": 73,
   "metadata": {},
   "outputs": [
    {
     "name": "stdout",
     "output_type": "stream",
     "text": [
      "epoch  1,  loss 0.31357690691947937\n",
      "epoch  2,  loss 0.14212769269943237\n",
      "epoch  3,  loss 0.11370948702096939\n",
      "epoch  4,  loss 0.09662743657827377\n",
      "epoch  5,  loss 0.08155152946710587\n",
      "epoch  6,  loss 0.07803860306739807\n",
      "epoch  7,  loss 0.06681666523218155\n",
      "epoch  8,  loss 0.06269488483667374\n",
      "epoch  9,  loss 0.05967650189995766\n",
      "epoch  10,  loss 0.054092053323984146\n",
      "epoch  11,  loss 0.053618740290403366\n",
      "epoch  12,  loss 0.049541570246219635\n",
      "epoch  13,  loss 0.04811105877161026\n",
      "epoch  14,  loss 0.045855194330215454\n",
      "epoch  15,  loss 0.04552885517477989\n"
     ]
    }
   ],
   "source": [
    "for epoch in range(1, epochs +1):\n",
    "    avg_cost = 0\n",
    "    total_batch = len(mnist_trainset) // batch_size\n",
    "    \n",
    "    for i, (batch_xs, batch_ys) in enumerate(traindata):\n",
    "        X = Variable(batch_xs.view(-1, 28*28)) #from image to numeric data\n",
    "        Y = Variable(batch_ys)  #not ont-hot\n",
    "        \n",
    "        optimizer.zero_grad()\n",
    "        outputs = model_Drop.forward(X)\n",
    "        cost = criterion(outputs, Y)\n",
    "        cost.backward()\n",
    "        optimizer.step()\n",
    "        \n",
    "        avg_cost += cost / total_batch\n",
    "        \n",
    "    print('epoch  {},  loss {}'.format(epoch, avg_cost))"
   ]
  },
  {
   "cell_type": "code",
   "execution_count": 74,
   "metadata": {},
   "outputs": [
    {
     "name": "stdout",
     "output_type": "stream",
     "text": [
      "Accuracy: 0.9763000011444092\n"
     ]
    }
   ],
   "source": [
    "#Test the model and check accuracy\n",
    "X_test = Variable(mnist_testset.test_data.view(-1, 28 * 28).float())\n",
    "Y_test = Variable(mnist_testset.test_labels)\n",
    "\n",
    "keep_prob = 1\n",
    "prediction = model_Drop(X_test)\n",
    "correct_prediction = (prediction.argmax(1) == Y_test)\n",
    "accuracy = correct_prediction.float().mean()\n",
    "print('Accuracy:', accuracy.item())"
   ]
  },
  {
   "cell_type": "code",
   "execution_count": null,
   "metadata": {},
   "outputs": [],
   "source": []
  }
 ],
 "metadata": {
  "kernelspec": {
   "display_name": "Python 3",
   "language": "python",
   "name": "python3"
  },
  "language_info": {
   "codemirror_mode": {
    "name": "ipython",
    "version": 3
   },
   "file_extension": ".py",
   "mimetype": "text/x-python",
   "name": "python",
   "nbconvert_exporter": "python",
   "pygments_lexer": "ipython3",
   "version": "3.6.5"
  }
 },
 "nbformat": 4,
 "nbformat_minor": 2
}
