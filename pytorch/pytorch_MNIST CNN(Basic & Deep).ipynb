{
 "cells": [
  {
   "cell_type": "markdown",
   "metadata": {},
   "source": [
    "# Basic CNN"
   ]
  },
  {
   "cell_type": "code",
   "execution_count": 2,
   "metadata": {},
   "outputs": [],
   "source": [
    "import torch\n",
    "from torch import nn, optim\n",
    "from torch.autograd import Variable\n",
    "import numpy as np\n",
    "import torchvision\n",
    "import torchvision.datasets as datasets\n",
    "import torchvision.transforms as transforms\n",
    "import torch.utils.data as Data"
   ]
  },
  {
   "cell_type": "code",
   "execution_count": 3,
   "metadata": {},
   "outputs": [],
   "source": [
    "class CNN(nn.Module):\n",
    "    \n",
    "    def __init__(self):\n",
    "        super(CNN, self).__init__()\n",
    "        #Image shape = (-1, 28, 28, 1)\n",
    "        #Conv => (-1, 28, 28, 32)\n",
    "        #output shape => (-1, 14, 14, 32)\n",
    "        self.layer1 = nn.Sequential(nn.Conv2d(1, 32,kernel_size = 3, stride= 1, padding = 1),\n",
    "                                      nn.ReLU(), nn.MaxPool2d(kernel_size = 2, stride = 2))\n",
    "        \n",
    "        #Conv => (-1, 14, 14, 64)\n",
    "        #Pool => (-1, 7, 7, 64)\n",
    "        self.layer2 = nn.Sequential(nn.Conv2d(32, 64, kernel_size = 3, stride = 1, padding = 1),\n",
    "                                     nn.ReLU(), nn.MaxPool2d(kernel_size = 2, stride = 2))\n",
    "        \n",
    "        #FC:  (7*7*64) inputs => (10) outputs\n",
    "        self.fc = nn.Linear(7*7*64, 10, bias = True)\n",
    "        nn.init.xavier_uniform_(self.fc.weight)\n",
    "        \n",
    "    def forward(self, data):\n",
    "        outputs = self.layer1(data)\n",
    "        outputs = self.layer2(outputs)\n",
    "        outputs = outputs.view(outputs.size(0), -1)\n",
    "        outputs = self.fc(outputs)\n",
    "        return outputs\n",
    "        "
   ]
  },
  {
   "cell_type": "code",
   "execution_count": 4,
   "metadata": {},
   "outputs": [],
   "source": [
    "#MNIST data\n",
    "mnist_trainset = datasets.MNIST(root = './data',train =True,transform=transforms.ToTensor(),download=True)\n",
    "mnist_testset = datasets.MNIST(root = './data', train = False, transform=transforms.ToTensor(),download=True)\n",
    "\n",
    "#model\n",
    "model = CNN()\n",
    "\n",
    "#parameters\n",
    "lr = 0.01\n",
    "epochs = 10\n",
    "batch_size = 100\n",
    "\n",
    "#data\n",
    "traindata = Data.DataLoader(dataset=mnist_trainset, batch_size=batch_size, shuffle=True)\n",
    "\n",
    "#Optimizer / cost\n",
    "optimizer = optim.Adam(model.parameters(), lr = lr)\n",
    "criterion = nn.CrossEntropyLoss()  #Sotfmax is internally computed"
   ]
  },
  {
   "cell_type": "code",
   "execution_count": 6,
   "metadata": {},
   "outputs": [
    {
     "name": "stdout",
     "output_type": "stream",
     "text": [
      "Epoch 1, cost = 0.17255689203739166\n",
      "Epoch 2, cost = 0.06926210224628448\n",
      "Epoch 3, cost = 0.060514241456985474\n",
      "Epoch 4, cost = 0.053351029753685\n",
      "Epoch 5, cost = 0.050637826323509216\n",
      "Epoch 6, cost = 0.048927318304777145\n",
      "Epoch 7, cost = 0.04560926556587219\n",
      "Epoch 8, cost = 0.044997867196798325\n",
      "Epoch 9, cost = 0.04215766862034798\n",
      "Epoch 10, cost = 0.04083450883626938\n"
     ]
    }
   ],
   "source": [
    "for epoch in range(1, epochs +1):\n",
    "    avg_cost = 0\n",
    "    total_batch = len(mnist_trainset) // batch_size\n",
    "    \n",
    "    for i, (batch_xs, batch_ys) in enumerate(traindata):\n",
    "        X = Variable(batch_xs)\n",
    "        Y = Variable(batch_ys)\n",
    "        \n",
    "        optimizer.zero_grad()\n",
    "        outputs = model.forward(X)\n",
    "        cost = criterion(outputs, Y)\n",
    "        cost.backward()\n",
    "        optimizer.step()\n",
    "        \n",
    "        avg_cost += cost.data / total_batch\n",
    "        \n",
    "    print('Epoch {}, cost = {}'.format(epoch, avg_cost))"
   ]
  },
  {
   "cell_type": "code",
   "execution_count": 7,
   "metadata": {},
   "outputs": [
    {
     "name": "stdout",
     "output_type": "stream",
     "text": [
      "Accuracy:  tensor(0.9189)\n"
     ]
    }
   ],
   "source": [
    "#Test model and check accuracy\n",
    "model.eval()  # set the model to evaluation mode (dropout = False)\n",
    "\n",
    "X_test = Variable(mnist_testset.test_data.view(-1, 1, 28, 28)).float()  \n",
    "Y_test = Variable(mnist_testset.test_labels)\n",
    "\n",
    "prediction = model.forward(X_test)\n",
    "correct = (prediction.argmax(1) == Y_test)\n",
    "accuracy = correct.float().mean()\n",
    "print('Accuracy: ', accuracy)"
   ]
  },
  {
   "cell_type": "markdown",
   "metadata": {},
   "source": [
    "# Deep CNN\n",
    "* add 1 more convolutional layer and 2 more FC"
   ]
  },
  {
   "cell_type": "code",
   "execution_count": 25,
   "metadata": {},
   "outputs": [],
   "source": [
    "class Deep_CNN(nn.Module):\n",
    "    \n",
    "    def __init__(self):\n",
    "        super(Deep_CNN, self).__init__()\n",
    "        #Image shape = (-1, 28, 28, 1)\n",
    "        #Conv => (-1, 28, 28, 32)\n",
    "        #output shape => (-1, 14, 14, 32)\n",
    "        self.layer1 = nn.Sequential(nn.Conv2d(1, 32,kernel_size = 3, stride= 1, padding = 1),\n",
    "                                      nn.ReLU(), nn.MaxPool2d(kernel_size = 2, stride = 2),\n",
    "                                       nn.Dropout(p = 1 - keep_prob))\n",
    "        \n",
    "        #Conv => (-1, 14, 14, 64)\n",
    "        #Pool => (-1, 7, 7, 64)\n",
    "        self.layer2 = nn.Sequential(nn.Conv2d(32, 64, kernel_size = 3, stride = 1, padding = 1),\n",
    "                                     nn.ReLU(), nn.MaxPool2d(kernel_size = 2, stride = 2),\n",
    "                                       nn.Dropout(p = 1 - keep_prob))\n",
    "        \n",
    "        #Conv => (-1, 7, 7, 128)\n",
    "        #Pool => (-1, 4, 4, 128)\n",
    "        self.layer3 = nn.Sequential(nn.Conv2d(64, 128, kernel_size = 3, stride = 1, padding = 1),\n",
    "                                     nn.ReLU(), nn.MaxPool2d(kernel_size = 2, stride = 2, padding = 1),\n",
    "                                       nn.Dropout(p = 1 - keep_prob))\n",
    "        \n",
    "        #L4:  (4*4*128) inputs => (625) outputs\n",
    "        self.fc1 = nn.Linear(4*4*128, 625, bias = True)\n",
    "        nn.init.xavier_uniform_(self.fc1.weight)\n",
    "        self.layer4 = nn.Sequential(self.fc1, nn.ReLU(),\n",
    "                                   nn.Dropout(p = 1-keep_prob))\n",
    "        #L5  (625) inputs => 10 outputs\n",
    "        self.fc2 = nn.Linear(625, 10, bias = True)\n",
    "        nn.init.xavier_uniform_(self.fc2.weight)\n",
    "            \n",
    "    def forward(self, data):\n",
    "        outputs = self.layer1(data)\n",
    "        outputs = self.layer2(outputs)\n",
    "        outputs = self.layer3(outputs)\n",
    "        outputs = outputs.view(outputs.size(0), -1)\n",
    "        outputs = self.layer4(outputs)\n",
    "        outputs = self.fc2(outputs)\n",
    "        return outputs\n",
    "        "
   ]
  },
  {
   "cell_type": "code",
   "execution_count": 28,
   "metadata": {},
   "outputs": [],
   "source": [
    "#model\n",
    "keep_prob = 0.7\n",
    "model = Deep_CNN()\n",
    "\n",
    "#parameters\n",
    "lr = 0.001\n",
    "epochs = 10\n",
    "batch_size = 100\n",
    "\n",
    "#data\n",
    "traindata = Data.DataLoader(dataset=mnist_trainset, batch_size=batch_size, shuffle=True)\n",
    "\n",
    "#Optimizer / cost\n",
    "optimizer = optim.Adam(model.parameters(), lr = lr)\n",
    "criterion = nn.CrossEntropyLoss()  #Sotfmax is internally computed"
   ]
  },
  {
   "cell_type": "code",
   "execution_count": 29,
   "metadata": {},
   "outputs": [
    {
     "name": "stdout",
     "output_type": "stream",
     "text": [
      "Epoch 1, cost = 0.27524930238723755\n",
      "Epoch 2, cost = 0.0781298354268074\n",
      "Epoch 3, cost = 0.06037244573235512\n",
      "Epoch 4, cost = 0.04962151497602463\n",
      "Epoch 5, cost = 0.0436650775372982\n",
      "Epoch 6, cost = 0.040985699743032455\n",
      "Epoch 7, cost = 0.03547627851366997\n",
      "Epoch 8, cost = 0.0335809662938118\n",
      "Epoch 9, cost = 0.03145352378487587\n",
      "Epoch 10, cost = 0.03033491224050522\n"
     ]
    }
   ],
   "source": [
    "for epoch in range(1, epochs +1):\n",
    "    avg_cost = 0\n",
    "    total_batch = len(mnist_trainset) // batch_size\n",
    "    \n",
    "    for i, (batch_xs, batch_ys) in enumerate(traindata):\n",
    "        X = Variable(batch_xs)\n",
    "        Y = Variable(batch_ys)\n",
    "        \n",
    "        optimizer.zero_grad()\n",
    "        outputs = model.forward(X)\n",
    "        cost = criterion(outputs, Y)\n",
    "        cost.backward()\n",
    "        optimizer.step()\n",
    "        \n",
    "        avg_cost += cost.data / total_batch\n",
    "        \n",
    "    print('Epoch {}, cost = {}'.format(epoch, avg_cost))"
   ]
  },
  {
   "cell_type": "code",
   "execution_count": 30,
   "metadata": {},
   "outputs": [
    {
     "name": "stdout",
     "output_type": "stream",
     "text": [
      "Accuracy:  tensor(0.9543)\n"
     ]
    }
   ],
   "source": [
    "#Test model and check accuracy\n",
    "model.eval()  # set the model to evaluation mode (dropout = False)\n",
    "\n",
    "X_test = Variable(mnist_testset.test_data.view(-1, 1, 28, 28)).float()  \n",
    "Y_test = Variable(mnist_testset.test_labels)\n",
    "\n",
    "prediction = model.forward(X_test)\n",
    "correct = (prediction.argmax(1) == Y_test)\n",
    "accuracy = correct.float().mean()\n",
    "print('Accuracy: ', accuracy)"
   ]
  },
  {
   "cell_type": "code",
   "execution_count": null,
   "metadata": {},
   "outputs": [],
   "source": []
  }
 ],
 "metadata": {
  "kernelspec": {
   "display_name": "Python 3",
   "language": "python",
   "name": "python3"
  },
  "language_info": {
   "codemirror_mode": {
    "name": "ipython",
    "version": 3
   },
   "file_extension": ".py",
   "mimetype": "text/x-python",
   "name": "python",
   "nbconvert_exporter": "python",
   "pygments_lexer": "ipython3",
   "version": "3.6.5"
  }
 },
 "nbformat": 4,
 "nbformat_minor": 2
}
