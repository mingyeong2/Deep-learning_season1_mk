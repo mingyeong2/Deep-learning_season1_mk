{
 "cells": [
  {
   "attachments": {},
   "cell_type": "markdown",
   "metadata": {},
   "source": [
    "참고자료: http://cs231n.stanford.edu/\n",
    "<img src='cnn.png'>\n",
    "- stride: filter를 몇 칸씩 움직일 것인지\n",
    "- output size = (size of image - size of filter) / stride + 1\n",
    "- stride를 크게 할 수록 유실하는 정보가 많아진다. \n",
    "=> Padding이라는 개념을 사용\n",
    "\n",
    "#### Padding: 가장자리에 0 pad를 두는 것. 그림이 급격하게 작아지는 것을 방지하고, 그 부분이 모서리임을 네트워크에 알릴 수 있다.\n",
    "\n",
    "#### In general, common to see CONV layers with stride 1, filters of size F * F, and zero-padding with (F-1)/2  (will preserve size spatially)\n",
    "\n",
    "#### How many weight variables?\n",
    "하나의 convolution layer가 6개의 (5*5*3) filter로 이루어져 있다면,\n",
    "6(model 갯수) * (5 * 5 * 3)\n",
    "\n",
    "#### How to set them?\n",
    "처음에는 random하게 하고, 이를 학습시킨다."
   ]
  },
  {
   "cell_type": "markdown",
   "metadata": {},
   "source": [
    "# CNN introduction: Max pooling and others\n",
    "\n",
    "### pooling layer (= sampling)\n",
    "- conv layer에서 각각의 layer를 뽑아서 sampling을 통해 resize한 후 이를 다시 쌓는다 \n",
    "\n",
    "#### Max pooling\n",
    "- 각 filter에서 가장 큰 값만 뽑는다 (결과의 size는 filter와 stride에 따라 달라진다)\n",
    "\n",
    "#### Fully Connected Layer (FC layer)\n",
    "- 최종적으로 나온 layer를 FC에 넣고 분류를 한다.\n",
    "\n",
    "\n",
    "참고:\n",
    "https://cs.stanford.edu/people/karpathy/convnetjs/demo/cifar10.html"
   ]
  },
  {
   "cell_type": "markdown",
   "metadata": {},
   "source": [
    "# CNN case study\n",
    "1. LeNet-5\n",
    "\n",
    "2. AlexNet\n",
    "\n",
    "3. GoogLeNet\n",
    "\n",
    "4. ResNet\n",
    "\n",
    "5. Convolutional Neural Networks for Sentence Classification\n",
    "\n",
    "6. DeepMind's AlphaGo"
   ]
  },
  {
   "cell_type": "code",
   "execution_count": null,
   "metadata": {},
   "outputs": [],
   "source": []
  },
  {
   "cell_type": "code",
   "execution_count": null,
   "metadata": {},
   "outputs": [],
   "source": []
  },
  {
   "cell_type": "markdown",
   "metadata": {},
   "source": [
    "# Lab 11-1. CNN Basics"
   ]
  },
  {
   "cell_type": "code",
   "execution_count": 7,
   "metadata": {},
   "outputs": [],
   "source": [
    "import tensorflow as tf\n",
    "import matplotlib.pyplot as plt\n",
    "import numpy as np\n",
    "%matplotlib inline\n",
    "\n",
    "sess = tf.Session()"
   ]
  },
  {
   "cell_type": "code",
   "execution_count": 3,
   "metadata": {},
   "outputs": [
    {
     "name": "stdout",
     "output_type": "stream",
     "text": [
      "(1, 3, 3, 1)\n"
     ]
    },
    {
     "data": {
      "text/plain": [
       "<matplotlib.image.AxesImage at 0x1996d184c18>"
      ]
     },
     "execution_count": 3,
     "metadata": {},
     "output_type": "execute_result"
    },
    {
     "data": {
      "image/png": "[encoded data removed]",
      "text/plain": [
       "<Figure size 432x288 with 1 Axes>"
      ]
     },
     "metadata": {},
     "output_type": "display_data"
    }
   ],
   "source": [
    "#Create Toy image\n",
    "sess = tf.InteractiveSession()\n",
    "image = np.array([[[[1],[2],[3]],\n",
    "                  [[4],[5],[6]],\n",
    "                   [[7],[8],[9]]]], dtype = np.float32)\n",
    "\n",
    "print(image.shape) #처음 1: 1개의 이미지. \n",
    "plt.imshow(image.reshape(3,3), cmap = 'Greys')"
   ]
  },
  {
   "cell_type": "markdown",
   "metadata": {},
   "source": [
    "Image: 1,3,3,1 image  |   Filter: 2,2,1,1 |  stride: 1,1  | padding: Valid"
   ]
  },
  {
   "cell_type": "code",
   "execution_count": 6,
   "metadata": {},
   "outputs": [
    {
     "name": "stdout",
     "output_type": "stream",
     "text": [
      "weight.shape: (2, 2, 1, 1)\n"
     ]
    }
   ],
   "source": [
    "weight = tf.constant([[[[1.]],[[1.]]],[[[1.]],[[1.]]]])\n",
    "print('weight.shape:', weight.shape)"
   ]
  },
  {
   "cell_type": "code",
   "execution_count": 10,
   "metadata": {},
   "outputs": [
    {
     "name": "stdout",
     "output_type": "stream",
     "text": [
      "conv2d_img.shape (1, 2, 2, 1)\n"
     ]
    }
   ],
   "source": [
    "#padding이 same: 원래 이미지와 똑같은 사이즈가 되도록 해준다.\n",
    "conv2d = tf.nn.conv2d(image, weight, strides = [1,1,1,1], padding = 'VALID')\n",
    "conv2d_img = conv2d.eval(session = sess)\n",
    "print('conv2d_img.shape', conv2d_img.shape)"
   ]
  },
  {
   "cell_type": "code",
   "execution_count": 12,
   "metadata": {},
   "outputs": [
    {
     "name": "stdout",
     "output_type": "stream",
     "text": [
      "[[12. 16.]\n",
      " [24. 28.]]\n"
     ]
    },
    {
     "data": {
      "image/png": "[encoded data removed]",
      "text/plain": [
       "<Figure size 432x288 with 1 Axes>"
      ]
     },
     "metadata": {},
     "output_type": "display_data"
    }
   ],
   "source": [
    "conv2d_img = np.swapaxes(conv2d_img, 0, 3)\n",
    "\n",
    "for i, one_img in enumerate(conv2d_img):\n",
    "    print(one_img.reshape(2,2))\n",
    "    plt.subplot(1,2,i+1), plt.imshow(one_img.reshape(2,2), cmap = 'gray')"
   ]
  },
  {
   "cell_type": "code",
   "execution_count": 14,
   "metadata": {},
   "outputs": [
    {
     "name": "stdout",
     "output_type": "stream",
     "text": [
      "image.shpae (1, 3, 3, 1)\n",
      "conv2d_img.shape (1, 3, 3, 1)\n",
      "conv2d_img.shape (1, 3, 3, 1)\n",
      "[[12. 16.  9.]\n",
      " [24. 28. 15.]\n",
      " [15. 17.  9.]]\n"
     ]
    },
    {
     "data": {
      "image/png": "[encoded data removed]",
      "text/plain": [
       "<Figure size 432x288 with 1 Axes>"
      ]
     },
     "metadata": {},
     "output_type": "display_data"
    }
   ],
   "source": [
    "# padding = same\n",
    "print('image.shpae', image.shape)\n",
    "conv2d = tf.nn.conv2d(image, weight, strides = [1,1,1,1], padding ='SAME')\n",
    "conv2d_img = conv2d.eval(session = sess)\n",
    "print('conv2d_img.shape', conv2d_img.shape)\n",
    "conv2d_img = np.swapaxes(conv2d_img, 0, 3)\n",
    "\n",
    "for i, one_img in enumerate(conv2d_img):\n",
    "    print(one_img.reshape(3,3))\n",
    "    plt.subplot(1, 2, i+1), plt.imshow(one_img.reshape(3,3), cmap = 'gray')"
   ]
  },
  {
   "cell_type": "markdown",
   "metadata": {},
   "source": [
    "### 3 filters (2, 2, 1, 3)"
   ]
  },
  {
   "cell_type": "code",
   "execution_count": 17,
   "metadata": {},
   "outputs": [
    {
     "name": "stdout",
     "output_type": "stream",
     "text": [
      "image.shpae (1, 3, 3, 1)\n",
      "weight.shape (2, 2, 1, 3)\n",
      "conv2d_img.shape (1, 3, 3, 3)\n",
      "[[12. 16.  9.]\n",
      " [24. 28. 15.]\n",
      " [15. 17.  9.]]\n",
      "[[120. 160.  90.]\n",
      " [240. 280. 150.]\n",
      " [150. 170.  90.]]\n",
      "[[-12. -16.  -9.]\n",
      " [-24. -28. -15.]\n",
      " [-15. -17.  -9.]]\n"
     ]
    },
    {
     "data": {
      "image/png": "[encoded data removed]",
      "text/plain": [
       "<Figure size 432x288 with 3 Axes>"
      ]
     },
     "metadata": {},
     "output_type": "display_data"
    }
   ],
   "source": [
    "print('image.shpae',image.shape)\n",
    "\n",
    "weight = tf.constant([[[[1.,10.,-1.]],[[1.,10.,-1.]]],\n",
    "                      [[[1.,10.,-1.]],[[1.,10.,-1]]]])\n",
    "\n",
    "print('weight.shape',weight.shape)\n",
    "conv2d = tf.nn.conv2d(image, weight, strides = [1, 1, 1,1], padding ='SAME')\n",
    "conv2d_img = conv2d.eval(session = sess)\n",
    "print('conv2d_img.shape', conv2d_img.shape)\n",
    "conv2d_img = np.swapaxes(conv2d_img, 0, 3)\n",
    "for i, one_img in enumerate(conv2d_img):\n",
    "    print(one_img.reshape(3, 3))\n",
    "    plt.subplot(1,3,i+1), plt.imshow(one_img.reshape(3,3), cmap = 'gray')"
   ]
  },
  {
   "cell_type": "markdown",
   "metadata": {},
   "source": [
    "## Max Pooling"
   ]
  },
  {
   "cell_type": "code",
   "execution_count": 19,
   "metadata": {},
   "outputs": [
    {
     "name": "stdout",
     "output_type": "stream",
     "text": [
      "(1, 2, 2, 1)\n",
      "[[[[4.]\n",
      "   [3.]]\n",
      "\n",
      "  [[2.]\n",
      "   [1.]]]]\n"
     ]
    }
   ],
   "source": [
    "image = np.array([[[[4],[3]],\n",
    "                  [[2],[1]]]], dtype = np.float32)\n",
    "pool = tf.nn.max_pool(image, ksize = [1, 2, 2, 1],\n",
    "                     strides = [1, 1, 1, 1], padding = 'SAME')\n",
    "\n",
    "print(pool.shape)\n",
    "print(pool.eval(session = sess))"
   ]
  },
  {
   "cell_type": "markdown",
   "metadata": {},
   "source": [
    "## MNIST Image"
   ]
  },
  {
   "cell_type": "code",
   "execution_count": 21,
   "metadata": {},
   "outputs": [
    {
     "name": "stdout",
     "output_type": "stream",
     "text": [
      "Extracting MNIST_data/train-images-idx3-ubyte.gz\n",
      "Extracting MNIST_data/train-labels-idx1-ubyte.gz\n",
      "Extracting MNIST_data/t10k-images-idx3-ubyte.gz\n",
      "Extracting MNIST_data/t10k-labels-idx1-ubyte.gz\n"
     ]
    }
   ],
   "source": [
    "from tensorflow.examples.tutorials.mnist import input_data\n",
    "mnist = input_data.read_data_sets('MNIST_data/', one_hot = True)"
   ]
  },
  {
   "cell_type": "code",
   "execution_count": 23,
   "metadata": {},
   "outputs": [
    {
     "data": {
      "text/plain": [
       "<matplotlib.image.AxesImage at 0x199129df6a0>"
      ]
     },
     "execution_count": 23,
     "metadata": {},
     "output_type": "execute_result"
    },
    {
     "data": {
      "image/png": "[encoded data removed]",
      "text/plain": [
       "<Figure size 432x288 with 1 Axes>"
      ]
     },
     "metadata": {},
     "output_type": "display_data"
    }
   ],
   "source": [
    "img = mnist.train.images[0].reshape(28, 28)\n",
    "plt.imshow(img, cmap = 'gray')"
   ]
  },
  {
   "cell_type": "markdown",
   "metadata": {},
   "source": [
    "### MNIST Convolution layer"
   ]
  },
  {
   "cell_type": "code",
   "execution_count": 27,
   "metadata": {},
   "outputs": [
    {
     "name": "stdout",
     "output_type": "stream",
     "text": [
      "Tensor(\"Conv2D_9:0\", shape=(1, 14, 14, 5), dtype=float32)\n"
     ]
    },
    {
     "data": {
      "image/png": "[encoded data removed]",
      "text/plain": [
       "<Figure size 432x288 with 5 Axes>"
      ]
     },
     "metadata": {},
     "output_type": "display_data"
    }
   ],
   "source": [
    "img = img.reshape(-1, 28, 28, 1)\n",
    "W1 = tf.Variable(tf.random_normal([3,3,1,5], stddev = 0.01))\n",
    "conv2d = tf.nn.conv2d(img, W1, strides = [1,2,2,1], padding = 'SAME')\n",
    "print(conv2d)\n",
    "sess.run(tf.global_variables_initializer())\n",
    "conv2d_img = conv2d.eval(session = sess)\n",
    "conv2d_img = np.swapaxes(conv2d_img, 0, 3)\n",
    "for i , one_img in enumerate(conv2d_img):\n",
    "    plt.subplot(1, 5, i+1), plt.imshow(one_img.reshape(14,14), cmap = 'gray')"
   ]
  },
  {
   "cell_type": "markdown",
   "metadata": {},
   "source": [
    "## MNIST Max pooling"
   ]
  },
  {
   "cell_type": "code",
   "execution_count": 28,
   "metadata": {
    "scrolled": true
   },
   "outputs": [
    {
     "name": "stdout",
     "output_type": "stream",
     "text": [
      "Tensor(\"MaxPool_2:0\", shape=(1, 7, 7, 5), dtype=float32)\n"
     ]
    },
    {
     "data": {
      "image/png": "[encoded data removed]",
      "text/plain": [
       "<Figure size 432x288 with 5 Axes>"
      ]
     },
     "metadata": {},
     "output_type": "display_data"
    }
   ],
   "source": [
    "pool = tf.nn.max_pool(conv2d, ksize = [1,2,2,1], strides = [1,2,2,1],\n",
    "                     padding = 'SAME')\n",
    "print(pool)\n",
    "\n",
    "sess.run(tf.global_variables_initializer())\n",
    "pool_img = pool.eval(session = sess)\n",
    "pool_img = np.swapaxes(pool_img, 0, 3)\n",
    "for i, one_img in enumerate(pool_img):\n",
    "    plt.subplot(1, 5, i+1), plt.imshow(one_img.reshape(7,7), cmap = 'gray')"
   ]
  },
  {
   "cell_type": "code",
   "execution_count": null,
   "metadata": {},
   "outputs": [],
   "source": []
  },
  {
   "cell_type": "markdown",
   "metadata": {},
   "source": [
    "# Lab 11-2. CNN MNIST: 99%!\n",
    "\n",
    "### Conv layer 1"
   ]
  },
  {
   "cell_type": "code",
   "execution_count": 35,
   "metadata": {},
   "outputs": [],
   "source": [
    "tf.reset_default_graph() "
   ]
  },
  {
   "cell_type": "code",
   "execution_count": 36,
   "metadata": {},
   "outputs": [],
   "source": [
    "X = tf.placeholder(tf.float32, [None, 784])\n",
    "X_img = tf.reshape(X, [-1, 28, 28, 1])  #img 28*28*1 (black/white)\n",
    "Y = tf.placeholder(tf.float32, [None, 10])"
   ]
  },
  {
   "cell_type": "code",
   "execution_count": 37,
   "metadata": {},
   "outputs": [],
   "source": [
    "#L! ImgIn shape = (?, 28, 28, 1)\n",
    "W1 = tf.Variable(tf.random_normal([3,3,1,32], stddev = 0.01))\n",
    "\n",
    "#Conv -> (?, 28, 28, 32)\n",
    "#Pool -> (?, 14, 14, 32)\n",
    "L1 = tf.nn.conv2d(X_img, W1, strides = [1,1,1,1], padding = 'SAME')\n",
    "L1 = tf.nn.relu(L1)\n",
    "L1 = tf.nn.max_pool(L1, ksize = [1,2,2,1], strides = [1,2,2,1], padding = 'SAME')"
   ]
  },
  {
   "cell_type": "markdown",
   "metadata": {},
   "source": [
    "### Conv layer 2"
   ]
  },
  {
   "cell_type": "code",
   "execution_count": 38,
   "metadata": {},
   "outputs": [],
   "source": [
    "#L2 ImgIn shape = (?, 14, 14, 32)\n",
    "W2 = tf.Variable(tf.random_normal([3,3,32,64], stddev = 0.01))\n",
    "\n",
    "#Conv -> (?, 14, 14, 64)\n",
    "#Pool -> (?, 7, 7, 64)\n",
    "L2 = tf.nn.conv2d(L1, W2, strides = [1,1,1,1], padding = 'SAME')\n",
    "L2 = tf.nn.relu(L2)\n",
    "L2 = tf.nn.max_pool(L2, ksize = [1,2,2,1], strides = [1,2,2,1], padding = 'SAME')\n",
    "L2 = tf.reshape(L2, [-1, 7*7*64]) #이미지 2D로 펼치기"
   ]
  },
  {
   "cell_type": "markdown",
   "metadata": {},
   "source": [
    "### Fully Connected (FC, Dense) layer"
   ]
  },
  {
   "cell_type": "code",
   "execution_count": 39,
   "metadata": {},
   "outputs": [],
   "source": [
    "#Final FC  7*7*64 inputs => 10 outputs\n",
    "W3 = tf.get_variable('W3', shape = [7*7*64,10],\n",
    "                    initializer = tf.contrib.layers.xavier_initializer())\n",
    "b = tf.Variable(tf.random_normal([10]))\n",
    "hypothesis = tf.matmul(L2, W3) + b"
   ]
  },
  {
   "cell_type": "code",
   "execution_count": 40,
   "metadata": {},
   "outputs": [
    {
     "name": "stdout",
     "output_type": "stream",
     "text": [
      "WARNING:tensorflow:From <ipython-input-40-7bcb1ef4eea1>:5: softmax_cross_entropy_with_logits (from tensorflow.python.ops.nn_ops) is deprecated and will be removed in a future version.\n",
      "Instructions for updating:\n",
      "\n",
      "Future major versions of TensorFlow will allow gradients to flow\n",
      "into the labels input on backprop by default.\n",
      "\n",
      "See @{tf.nn.softmax_cross_entropy_with_logits_v2}.\n",
      "\n"
     ]
    }
   ],
   "source": [
    "#define cost/loss & optimizer\n",
    "learning_rate = 0.01\n",
    "\n",
    "cost = tf.reduce_mean(tf.nn.softmax_cross_entropy_with_logits(logits = hypothesis,\n",
    "                                                             labels = Y))\n",
    "optimizer = tf.train.AdamOptimizer(learning_rate = learning_rate).minimize(cost)"
   ]
  },
  {
   "cell_type": "code",
   "execution_count": 41,
   "metadata": {},
   "outputs": [],
   "source": [
    "sess = tf.Session()\n",
    "sess.run(tf.global_variables_initializer())"
   ]
  },
  {
   "cell_type": "code",
   "execution_count": 42,
   "metadata": {},
   "outputs": [
    {
     "name": "stdout",
     "output_type": "stream",
     "text": [
      "Learning started. It takes sometime\n",
      "Epoch:  0001 cost =  0.154488636\n",
      "Epoch:  0002 cost =  0.051587629\n",
      "Epoch:  0003 cost =  0.040927011\n",
      "Epoch:  0004 cost =  0.035382876\n",
      "Epoch:  0005 cost =  0.029429423\n",
      "Epoch:  0006 cost =  0.023238436\n",
      "Epoch:  0007 cost =  0.025244579\n",
      "Epoch:  0008 cost =  0.023215868\n",
      "Epoch:  0009 cost =  0.018693899\n",
      "Epoch:  0010 cost =  0.018209718\n",
      "Epoch:  0011 cost =  0.017019076\n",
      "Epoch:  0012 cost =  0.024039190\n",
      "Epoch:  0013 cost =  0.016098871\n",
      "Epoch:  0014 cost =  0.016651566\n",
      "Epoch:  0015 cost =  0.018577722\n",
      "Learning Finished!\n"
     ]
    }
   ],
   "source": [
    "#train my model\n",
    "training_epochs = 15\n",
    "batch_size = 100\n",
    "\n",
    "print('Learning started. It takes sometime')\n",
    "for epoch in range(training_epochs):\n",
    "    avg_cost = 0\n",
    "    total_batch = int(mnist.train.num_examples / batch_size)\n",
    "    for i in range(total_batch):\n",
    "        batch_xs, batch_ys = mnist.train.next_batch(batch_size)\n",
    "        feed_dict = {X: batch_xs, Y: batch_ys}\n",
    "        c, _ = sess.run([cost, optimizer], feed_dict = feed_dict)\n",
    "        avg_cost += c / total_batch\n",
    "    print('Epoch: ', '%04d' % (epoch + 1), 'cost = ', '{:.9f}'.format(avg_cost))\n",
    "    \n",
    "print('Learning Finished!')"
   ]
  },
  {
   "cell_type": "code",
   "execution_count": 43,
   "metadata": {},
   "outputs": [
    {
     "name": "stdout",
     "output_type": "stream",
     "text": [
      "Accuracy:  0.987\n"
     ]
    }
   ],
   "source": [
    "#Test model and check accuracy\n",
    "correct_prediction = tf.equal(tf.argmax(hypothesis, 1), tf.argmax(Y,1))\n",
    "accuracy = tf.reduce_mean(tf.cast(correct_prediction, tf.float32))\n",
    "print('Accuracy: ', sess.run(accuracy, feed_dict = {\n",
    "    X:mnist.test.images, Y: mnist.test.labels\n",
    "}))"
   ]
  },
  {
   "cell_type": "markdown",
   "metadata": {},
   "source": [
    "## Deep CNN\n",
    "- Convolutional layer를 3개로, FC도 2개로 늘림"
   ]
  },
  {
   "cell_type": "code",
   "execution_count": 66,
   "metadata": {},
   "outputs": [],
   "source": [
    "tf.reset_default_graph() "
   ]
  },
  {
   "cell_type": "code",
   "execution_count": 67,
   "metadata": {},
   "outputs": [],
   "source": [
    "X = tf.placeholder(tf.float32, [None, 784])\n",
    "X_img = tf.reshape(X, [-1, 28, 28, 1])  #img 28*28*1 (black/white)\n",
    "Y = tf.placeholder(tf.float32, [None, 10])\n",
    "keep_prob = tf.placeholder(tf.float32)\n",
    "\n",
    "#L! ImgIn shape = (?, 28, 28, 1)\n",
    "W1 = tf.Variable(tf.random_normal([3,3,1,32], stddev = 0.01))\n",
    "\n",
    "#Conv -> (?, 28, 28, 32)\n",
    "#Pool -> (?, 14, 14, 32)\n",
    "L1 = tf.nn.conv2d(X_img, W1, strides = [1,1,1,1], padding = 'SAME')\n",
    "L1 = tf.nn.relu(L1)\n",
    "L1 = tf.nn.max_pool(L1, ksize = [1,2,2,1], strides = [1,2,2,1], padding = 'SAME')\n",
    "L1 = tf.nn.dropout(L1, keep_prob = keep_prob)\n",
    "\n",
    "#L2 ImgIn shape = (?, 14, 14, 32)\n",
    "W2 = tf.Variable(tf.random_normal([3,3,32,64], stddev = 0.01))\n",
    "\n",
    "#Conv -> (?, 14, 14, 64)\n",
    "#Pool -> (?, 7, 7, 64)\n",
    "L2 = tf.nn.conv2d(L1, W2, strides = [1,1,1,1], padding = 'SAME')\n",
    "L2 = tf.nn.relu(L2)\n",
    "L2 = tf.nn.max_pool(L2, ksize = [1,2,2,1], strides = [1,2,2,1], padding = 'SAME')\n",
    "L2 = tf.nn.dropout(L2, keep_prob = keep_prob)\n",
    "\n",
    "#L! ImgIn shape = (?, 7, 7, 64)\n",
    "W3 = tf.Variable(tf.random_normal([3,3,64,128], stddev = 0.01))\n",
    "\n",
    "#Conv -> (?, 7,7,128)\n",
    "#Pool -> (?, 4, 4, 128)\n",
    "#Reshape -> (?, 4*4*128)  \n",
    "L3 = tf.nn.conv2d(L2, W3, strides = [1,1,1,1], padding = 'SAME')\n",
    "L3 = tf.nn.relu(L3)\n",
    "L3 = tf.nn.max_pool(L3, ksize = [1,2,2,1], strides = [1,2,2,1], padding = 'SAME')\n",
    "L3= tf.nn.dropout(L3, keep_prob = keep_prob)\n",
    "L3 = tf.reshape(L3, [-1, 128*4*4])"
   ]
  },
  {
   "cell_type": "code",
   "execution_count": 68,
   "metadata": {},
   "outputs": [],
   "source": [
    "W4 = tf.get_variable('W4', shape = [4*4*128,625],\n",
    "                    initializer = tf.contrib.layers.xavier_initializer())\n",
    "b4 = tf.Variable(tf.random_normal([625]))\n",
    "L4 = tf.nn.relu(tf.matmul(L3, W4) + b4)\n",
    "L4 = tf.nn.dropout(L4, keep_prob = keep_prob)\n",
    "\n",
    "W5 = tf.get_variable('W5', shape = [625, 10],\n",
    "                    initializer = tf.contrib.layers.xavier_initializer())\n",
    "b5 = tf.Variable(tf.random_normal([10]))\n",
    "hypothesis = tf.matmul(L4, W5) + b5"
   ]
  },
  {
   "cell_type": "code",
   "execution_count": 73,
   "metadata": {},
   "outputs": [
    {
     "name": "stdout",
     "output_type": "stream",
     "text": [
      "Learning started. It takes sometime\n",
      "Epoch:  0001 cost =  0.456314139\n",
      "Epoch:  0002 cost =  0.091830331\n",
      "Epoch:  0003 cost =  0.067834376\n",
      "Epoch:  0004 cost =  0.055874228\n",
      "Epoch:  0005 cost =  0.049280604\n",
      "Epoch:  0006 cost =  0.043108482\n",
      "Epoch:  0007 cost =  0.039385268\n",
      "Epoch:  0008 cost =  0.036413365\n",
      "Epoch:  0009 cost =  0.033534930\n",
      "Epoch:  0010 cost =  0.031464826\n",
      "Epoch:  0011 cost =  0.029129510\n",
      "Epoch:  0012 cost =  0.028491002\n",
      "Epoch:  0013 cost =  0.027030902\n",
      "Epoch:  0014 cost =  0.026208984\n",
      "Epoch:  0015 cost =  0.024493023\n",
      "Learning Finished!\n"
     ]
    }
   ],
   "source": [
    "#define cost/loss & optimizer\n",
    "learning_rate = 0.001\n",
    "\n",
    "cost = tf.reduce_mean(tf.nn.softmax_cross_entropy_with_logits(logits = hypothesis,\n",
    "                                                             labels = Y))\n",
    "optimizer = tf.train.AdamOptimizer(learning_rate = learning_rate).minimize(cost)\n",
    "\n",
    "#train my model\n",
    "training_epochs = 15\n",
    "batch_size = 100\n",
    "\n",
    "sess = tf.Session()\n",
    "sess.run(tf.global_variables_initializer())\n",
    "\n",
    "print('Learning started. It takes sometime')\n",
    "for epoch in range(training_epochs):\n",
    "    avg_cost = 0\n",
    "    total_batch = int(mnist.train.num_examples / batch_size)\n",
    "    for i in range(total_batch):\n",
    "        batch_xs, batch_ys = mnist.train.next_batch(batch_size)\n",
    "        feed_dict = {X: batch_xs, Y: batch_ys, keep_prob: 0.7}\n",
    "        c, _ = sess.run([cost, optimizer], feed_dict = feed_dict)\n",
    "        avg_cost += c / total_batch\n",
    "    print('Epoch: ', '%04d' % (epoch + 1), 'cost = ', '{:.9f}'.format(avg_cost))\n",
    "    \n",
    "print('Learning Finished!')"
   ]
  },
  {
   "cell_type": "code",
   "execution_count": 74,
   "metadata": {},
   "outputs": [
    {
     "name": "stdout",
     "output_type": "stream",
     "text": [
      "Accuracy:  0.9936\n"
     ]
    }
   ],
   "source": [
    "#Test model and check accuracy\n",
    "correct_prediction = tf.equal(tf.argmax(hypothesis, 1), tf.argmax(Y,1))\n",
    "accuracy = tf.reduce_mean(tf.cast(correct_prediction, tf.float32))\n",
    "print('Accuracy: ', sess.run(accuracy, feed_dict = {\n",
    "    X:mnist.test.images, Y: mnist.test.labels, keep_prob : 1\n",
    "}))"
   ]
  },
  {
   "cell_type": "code",
   "execution_count": null,
   "metadata": {},
   "outputs": [],
   "source": []
  },
  {
   "cell_type": "markdown",
   "metadata": {},
   "source": [
    "## Lab 11-3. Class, Layers, Ensemble"
   ]
  },
  {
   "cell_type": "markdown",
   "metadata": {},
   "source": [
    "### python class로 코드를 간결하게!"
   ]
  },
  {
   "cell_type": "code",
   "execution_count": 77,
   "metadata": {},
   "outputs": [
    {
     "name": "stdout",
     "output_type": "stream",
     "text": [
      "Extracting MNIST_data/train-images-idx3-ubyte.gz\n",
      "Extracting MNIST_data/train-labels-idx1-ubyte.gz\n",
      "Extracting MNIST_data/t10k-images-idx3-ubyte.gz\n",
      "Extracting MNIST_data/t10k-labels-idx1-ubyte.gz\n"
     ]
    }
   ],
   "source": [
    "import tensorflow as tf\n",
    "from tensorflow.examples.tutorials.mnist import input_data\n",
    "\n",
    "mnist = input_data.read_data_sets('MNIST_data/', one_hot = True)\n",
    "\n",
    "learning_rate = 0.001\n",
    "training_epochs = 15\n",
    "batch_size = 100"
   ]
  },
  {
   "cell_type": "code",
   "execution_count": 80,
   "metadata": {},
   "outputs": [],
   "source": [
    "class Model:\n",
    "    def __init__(self, sess, name):\n",
    "        self.sess = sess\n",
    "        self.name = name\n",
    "        self._build_net()\n",
    "    \n",
    "    def _build_net(self):   #n = 5\n",
    "        with tf.variable_scope(self.name):\n",
    "            #input place holders\n",
    "            self.X = tf.placeholder(tf.float32, [None, 784])\n",
    "            #img 28*28*1 (black/white)\n",
    "            X_img = tf.reshape(self.X, [-1, 28, 28, 1])\n",
    "            self.Y = tf.placeholder(tf.float32, [None, 10])\n",
    "            self.keep_prob = tf.placeholder(tf.float32)\n",
    "            \n",
    "            #L1 ImgIn shape = (?, 28, 28, 1)\n",
    "            W1 = tf.Variable(tf.random_normal([3,3,1,32], stddev = 0.01))\n",
    "            #    Conv     -> (?, 28, 28, 32)\n",
    "            #    Pool     -> (?, 14, 14, 32)\n",
    "            L1 = tf.nn.conv2d(X_img, W1, strides=[1, 1, 1, 1], padding='SAME')\n",
    "            L1 = tf.nn.relu(L1)\n",
    "            L1 = tf.nn.max_pool(L1, ksize=[1, 2, 2, 1],\n",
    "                                strides=[1, 2, 2, 1], padding='SAME')\n",
    "            L1 = tf.nn.dropout(L1, keep_prob=self.keep_prob)\n",
    "\n",
    "            # L2 ImgIn shape=(?, 14, 14, 32)\n",
    "            W2 = tf.Variable(tf.random_normal([3, 3, 32, 64], stddev=0.01))\n",
    "            #    Conv      ->(?, 14, 14, 64)\n",
    "            #    Pool      ->(?, 7, 7, 64)\n",
    "            L2 = tf.nn.conv2d(L1, W2, strides=[1, 1, 1, 1], padding='SAME')\n",
    "            L2 = tf.nn.relu(L2)\n",
    "            L2 = tf.nn.max_pool(L2, ksize=[1, 2, 2, 1],\n",
    "                                strides=[1, 2, 2, 1], padding='SAME')\n",
    "            L2 = tf.nn.dropout(L2, keep_prob=self.keep_prob)\n",
    "\n",
    "            # L3 ImgIn shape=(?, 7, 7, 64)\n",
    "            W3 = tf.Variable(tf.random_normal([3, 3, 64, 128], stddev=0.01))\n",
    "            #    Conv      ->(?, 7, 7, 128)\n",
    "            #    Pool      ->(?, 4, 4, 128)\n",
    "            #    Reshape   ->(?, 4 * 4 * 128) # Flatten them for FC\n",
    "            L3 = tf.nn.conv2d(L2, W3, strides=[1, 1, 1, 1], padding='SAME')\n",
    "            L3 = tf.nn.relu(L3)\n",
    "            L3 = tf.nn.max_pool(L3, ksize=[1, 2, 2, 1], strides=[\n",
    "                                1, 2, 2, 1], padding='SAME')\n",
    "            L3 = tf.nn.dropout(L3, keep_prob=self.keep_prob)\n",
    "\n",
    "            L3_flat = tf.reshape(L3, [-1, 128 * 4 * 4])\n",
    "\n",
    "            # L4 FC 4x4x128 inputs -> 625 outputs\n",
    "            W4 = tf.get_variable(\"W4\", shape=[128 * 4 * 4, 625],\n",
    "                                 initializer=tf.contrib.layers.xavier_initializer())\n",
    "            b4 = tf.Variable(tf.random_normal([625]))\n",
    "            L4 = tf.nn.relu(tf.matmul(L3_flat, W4) + b4)\n",
    "            L4 = tf.nn.dropout(L4, keep_prob=self.keep_prob)\n",
    "\n",
    "            # L5 Final FC 625 inputs -> 10 outputs\n",
    "            W5 = tf.get_variable(\"W5\", shape=[625, 10],\n",
    "                                 initializer=tf.contrib.layers.xavier_initializer())\n",
    "            b5 = tf.Variable(tf.random_normal([10]))\n",
    "            self.logits = tf.matmul(L4, W5) + b5\n",
    "\n",
    "        # define cost/loss & optimizer\n",
    "        self.cost = tf.reduce_mean(tf.nn.softmax_cross_entropy_with_logits(\n",
    "            logits=self.logits, labels=self.Y))\n",
    "        self.optimizer = tf.train.AdamOptimizer(\n",
    "            learning_rate=learning_rate).minimize(self.cost)\n",
    "\n",
    "        correct_prediction = tf.equal(\n",
    "            tf.argmax(self.logits, 1), tf.argmax(self.Y, 1))\n",
    "        self.accuracy = tf.reduce_mean(tf.cast(correct_prediction, tf.float32))\n",
    "\n",
    "    def predict(self, x_test, keep_prop=1.0):\n",
    "        return self.sess.run(self.logits, feed_dict={self.X: x_test, self.keep_prob: keep_prop})\n",
    "\n",
    "    def get_accuracy(self, x_test, y_test, keep_prop=1.0):\n",
    "        return self.sess.run(self.accuracy, feed_dict={self.X: x_test, self.Y: y_test, self.keep_prob: keep_prop})\n",
    "\n",
    "    def train(self, x_data, y_data, keep_prop=0.7):\n",
    "        return self.sess.run([self.cost, self.optimizer], feed_dict={\n",
    "            self.X: x_data, self.Y: y_data, self.keep_prob: keep_prop})\n",
    "    "
   ]
  },
  {
   "cell_type": "code",
   "execution_count": 83,
   "metadata": {},
   "outputs": [
    {
     "name": "stdout",
     "output_type": "stream",
     "text": [
      "Learning Started!\n",
      "Epoch:  0001 cost =  0.342604766\n",
      "Epoch:  0002 cost =  0.093536929\n",
      "Epoch:  0003 cost =  0.070469471\n",
      "Epoch:  0004 cost =  0.058738773\n",
      "Epoch:  0005 cost =  0.049786922\n",
      "Epoch:  0006 cost =  0.044850997\n",
      "Epoch:  0007 cost =  0.041008575\n",
      "Epoch:  0008 cost =  0.036887206\n",
      "Epoch:  0009 cost =  0.035271136\n",
      "Epoch:  0010 cost =  0.032515103\n",
      "Epoch:  0011 cost =  0.031685277\n",
      "Epoch:  0012 cost =  0.028715743\n",
      "Epoch:  0013 cost =  0.026338087\n",
      "Epoch:  0014 cost =  0.025942665\n",
      "Epoch:  0015 cost =  0.025331005\n",
      "Learning Finished!\n",
      "Accuracy:  0.9921\n"
     ]
    }
   ],
   "source": [
    "tf.reset_default_graph() \n",
    "sess = tf.Session()\n",
    "m1 = Model(sess, 'm1')\n",
    "\n",
    "sess.run(tf.global_variables_initializer())\n",
    "\n",
    "print('Learning Started!')\n",
    "\n",
    "for epoch in range(training_epochs):\n",
    "    avg_cost = 0\n",
    "    total_batch = int(mnist.train.num_examples / batch_size)\n",
    "    \n",
    "    for i in range(total_batch):\n",
    "        batch_xs, batch_ys = mnist.train.next_batch(batch_size)\n",
    "        c, _ = m1.train(batch_xs, batch_ys)\n",
    "        avg_cost += c / total_batch\n",
    "    \n",
    "    print('Epoch: ', '%04d' % (epoch + 1), 'cost = ', '{:.9f}'.format(avg_cost))\n",
    "\n",
    "print('Learning Finished!')\n",
    "\n",
    "print('Accuracy: ', m1.get_accuracy(mnist.test.images, mnist.test.labels))"
   ]
  },
  {
   "cell_type": "markdown",
   "metadata": {},
   "source": [
    "### tf.layers"
   ]
  },
  {
   "cell_type": "code",
   "execution_count": null,
   "metadata": {},
   "outputs": [],
   "source": [
    "conv1 = tf.layers.conv2d(inputs = X_img, filter = 32, kernel_size = [3,3],\n",
    "                        padding = 'SAME', activation = tf.nn.relu)\n",
    "pool1 = tf.layers.max_pooling2d(inputs = conv1, pool_size = [2,2], \n",
    "                               padding = 'SAME', strides = 2)\n",
    "dropout1 = tf.layers.dropout(inputs = pool1, rate = 0.7, training = self.training)\n",
    "\n",
    "#FC  _ ㄱㅖ산을 줄여 준다\n",
    "flat = tf.reshape(dropout3, [-1, 128*4*4])\n",
    "dense = tf.layer.dense(inputs = flat, units = 625, activation = tf.nn.relu)"
   ]
  },
  {
   "cell_type": "markdown",
   "metadata": {},
   "source": [
    "# Ensemble"
   ]
  },
  {
   "cell_type": "code",
   "execution_count": 84,
   "metadata": {},
   "outputs": [
    {
     "name": "stdout",
     "output_type": "stream",
     "text": [
      "Learning Started!\n",
      "Epoch:  0001 cost = [0.41164619 0.40230644 0.35088645 0.44660903 0.38310558 0.32672985\n",
      " 0.41158027]\n",
      "Epoch:  0002 cost = [0.10377992 0.10036789 0.09636479 0.09407296 0.09359941 0.09857629\n",
      " 0.09653408]\n",
      "Epoch:  0003 cost = [0.07223498 0.07107106 0.07297402 0.06986446 0.07008617 0.07139572\n",
      " 0.07224902]\n",
      "Epoch:  0004 cost = [0.06249234 0.05826437 0.05765523 0.05765966 0.05681408 0.05981019\n",
      " 0.05888418]\n",
      "Epoch:  0005 cost = [0.05208399 0.05244706 0.05378113 0.05137817 0.05082138 0.05133672\n",
      " 0.0516823 ]\n",
      "Epoch:  0006 cost = [0.04620921 0.04596436 0.0450408  0.04679072 0.04634324 0.04768562\n",
      " 0.04733467]\n",
      "Epoch:  0007 cost = [0.04319195 0.04127278 0.04249375 0.0399895  0.0418713  0.04211795\n",
      " 0.04172419]\n",
      "Epoch:  0008 cost = [0.04022635 0.03823267 0.03924942 0.03897571 0.03709504 0.03958222\n",
      " 0.03916604]\n",
      "Epoch:  0009 cost = [0.03813802 0.0349248  0.03434246 0.03755904 0.0350264  0.03710474\n",
      " 0.03702305]\n",
      "Epoch:  0010 cost = [0.0352195  0.03342309 0.03316542 0.03255695 0.03348103 0.03522059\n",
      " 0.03280719]\n",
      "Epoch:  0011 cost = [0.03129362 0.03166771 0.03187274 0.03312204 0.03103877 0.0309849\n",
      " 0.03062763]\n",
      "Epoch:  0012 cost = [0.02792106 0.02947442 0.02947601 0.02901271 0.02868831 0.030219\n",
      " 0.02953951]\n",
      "Epoch:  0013 cost = [0.03037418 0.02917134 0.02827611 0.02804848 0.02764486 0.02879008\n",
      " 0.02964802]\n",
      "Epoch:  0014 cost = [0.02806276 0.02758546 0.02726089 0.02653743 0.02609938 0.02826641\n",
      " 0.02738954]\n",
      "Epoch:  0015 cost = [0.02775169 0.02653502 0.02472017 0.02591062 0.02505145 0.02498509\n",
      " 0.02540125]\n",
      "Learning Finished!\n"
     ]
    }
   ],
   "source": [
    "models = []  #model 담을 공간\n",
    "num_models = 7  #model 7개 사용\n",
    "for m in range(num_models):\n",
    "    models.append(Model(sess, 'model' + str(m)))  #7개 모델 Class로 구현\n",
    "    \n",
    "sess.run(tf.global_variables_initializer())\n",
    "print('Learning Started!')\n",
    "\n",
    "#train my model\n",
    "for epoch in range(training_epochs):\n",
    "    avg_cost_list = np.zeros(len(models))  #7개 모델의 각각 cost 담을 공간\n",
    "    total_batch = int(mnist.train.num_examples / batch_size)\n",
    "    for i in range(total_batch):\n",
    "        batch_xs, batch_ys = mnist.train.next_batch(batch_size)\n",
    "        \n",
    "        #train each model\n",
    "        for m_idx, m in enumerate(models):\n",
    "            c, _ = m.train(batch_xs, batch_ys)\n",
    "            avg_cost_list[m_idx] += c / total_batch\n",
    "            \n",
    "    print('Epoch: ', '%04d' %(epoch+1), 'cost =', avg_cost_list)\n",
    "print('Learning Finished!')"
   ]
  },
  {
   "cell_type": "markdown",
   "metadata": {},
   "source": [
    "각각의 모델의 accuracy보다 앙상블의 accuracy가 더 높다. "
   ]
  },
  {
   "cell_type": "code",
   "execution_count": 89,
   "metadata": {},
   "outputs": [
    {
     "name": "stdout",
     "output_type": "stream",
     "text": [
      "0 Accuracy:  0.9933\n",
      "1 Accuracy:  0.9933\n",
      "2 Accuracy:  0.9943\n",
      "3 Accuracy:  0.9943\n",
      "4 Accuracy:  0.9941\n",
      "5 Accuracy:  0.9931\n",
      "6 Accuracy:  0.9931\n",
      "Ensemble accuracy:  0.9955\n"
     ]
    }
   ],
   "source": [
    "#Test model and check accuracy\n",
    "test_size = len(mnist.test.labels)\n",
    "predictions = np.zeros(test_size *10).reshape(test_size, 10)  #row는 각 data, column은 T/F\n",
    "\n",
    "for m_idx, m in enumerate(models):\n",
    "    print(m_idx, 'Accuracy: ', m.get_accuracy(mnist.test.images, mnist.test.labels))\n",
    "    p = m.predict(mnist.test.images)\n",
    "    predictions += p #각 모델의 각 data에 대한 예측을 모두 합하기\n",
    "    \n",
    "ensemble_correct_prediction = tf.equal(tf.argmax(predictions, 1), tf.argmax(mnist.test.labels, 1))\n",
    "ensemble_accuracy = tf.reduce_mean(tf.cast(ensemble_correct_prediction, tf.float32))\n",
    "\n",
    "print('Ensemble accuracy: ', sess.run(ensemble_accuracy))"
   ]
  },
  {
   "cell_type": "code",
   "execution_count": null,
   "metadata": {},
   "outputs": [],
   "source": []
  }
 ],
 "metadata": {
  "kernelspec": {
   "display_name": "Python 3",
   "language": "python",
   "name": "python3"
  },
  "language_info": {
   "codemirror_mode": {
    "name": "ipython",
    "version": 3
   },
   "file_extension": ".py",
   "mimetype": "text/x-python",
   "name": "python",
   "nbconvert_exporter": "python",
   "pygments_lexer": "ipython3",
   "version": "3.6.5"
  }
 },
 "nbformat": 4,
 "nbformat_minor": 2
}
