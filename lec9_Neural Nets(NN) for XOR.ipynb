{
 "cells": [
  {
   "cell_type": "markdown",
   "metadata": {},
   "source": [
    "One logistic regression unit cannot separate XOR\n",
    "\n",
    "#### Multiple logistic regression unit (NN) can solve that problem.\n",
    "But it's very hard to train each weight and bias in the model\n"
   ]
  },
  {
   "cell_type": "markdown",
   "metadata": {},
   "source": [
    "# XOR using NN"
   ]
  },
  {
   "cell_type": "markdown",
   "metadata": {},
   "source": [
    "<img src=\"nn.png\">\n",
    "출처: 모두의 딥러닝 강좌 시즌1 lec9-1\n",
    "\n",
    "In the lecture, the weights and biases were given \n",
    "\n",
    "### Then, how can we learn W1, W2, b1, b2 from training data?\n",
    "We can use gradient descent algorithm.\n",
    "However, it is impossible because of massive computation"
   ]
  },
  {
   "cell_type": "markdown",
   "metadata": {},
   "source": [
    "## Backpropagation\n",
    "<img src=\"back1.png\">\n",
    "\n",
    "\n",
    "<img src=\"back2.png\">"
   ]
  },
  {
   "cell_type": "code",
   "execution_count": null,
   "metadata": {},
   "outputs": [],
   "source": []
  },
  {
   "cell_type": "markdown",
   "metadata": {},
   "source": [
    "# Lab09-1. Neural Net for XOR"
   ]
  },
  {
   "cell_type": "code",
   "execution_count": 6,
   "metadata": {},
   "outputs": [],
   "source": [
    "import numpy as np\n",
    "import tensorflow as tf"
   ]
  },
  {
   "cell_type": "code",
   "execution_count": 15,
   "metadata": {},
   "outputs": [],
   "source": [
    "x_data = np.array([[0,0],[0,1],[1,0],[1,1]], dtype = np.float32)\n",
    "y_data = np.array([[0],[1],[1],[0]], dtype = np.float32) "
   ]
  },
  {
   "cell_type": "markdown",
   "metadata": {},
   "source": [
    "## XOR with logistic regression?\n",
    "### But it doesn't work!!"
   ]
  },
  {
   "cell_type": "code",
   "execution_count": 7,
   "metadata": {},
   "outputs": [],
   "source": [
    "X = tf.placeholder(tf.float32)\n",
    "Y = tf.placeholder(tf.float32)\n",
    "W = tf.Variable(tf.random_normal([2,1]), name = 'weight')\n",
    "b = tf.Variable(tf.random_normal([1]), name = 'bias')"
   ]
  },
  {
   "cell_type": "code",
   "execution_count": 8,
   "metadata": {},
   "outputs": [],
   "source": [
    "hypothesis = tf.sigmoid(tf.matmul(X,W) +b)"
   ]
  },
  {
   "cell_type": "code",
   "execution_count": 9,
   "metadata": {},
   "outputs": [],
   "source": [
    "cost = -tf.reduce_mean(Y*tf.log(hypothesis) + (1-Y)*tf.log(1-hypothesis))\n",
    "train = tf.train.GradientDescentOptimizer(learning_rate = 0.1).minimize(cost)"
   ]
  },
  {
   "cell_type": "code",
   "execution_count": 10,
   "metadata": {},
   "outputs": [],
   "source": [
    "predicted = tf.cast(hypothesis > 0.5, dtype = tf.float32)\n",
    "accuracy = tf.reduce_mean(tf.cast(tf.equal(predicted, Y), dtype = tf.float32))"
   ]
  },
  {
   "cell_type": "code",
   "execution_count": 14,
   "metadata": {},
   "outputs": [
    {
     "name": "stdout",
     "output_type": "stream",
     "text": [
      "0 0.77746886\n",
      "100 0.73117447\n",
      "200 0.710486\n",
      "300 0.70100796\n",
      "400 0.6967071\n",
      "500 0.6947606\n",
      "600 0.69387937\n",
      "700 0.6934799\n",
      "800 0.69329846\n",
      "900 0.6932161\n",
      "1000 0.69317853\n",
      "1100 0.6931614\n",
      "1200 0.6931537\n",
      "1300 0.69315016\n",
      "1400 0.6931485\n",
      "1500 0.6931478\n",
      "1600 0.6931475\n",
      "1700 0.6931473\n",
      "1800 0.6931472\n",
      "1900 0.6931472\n",
      "2000 0.6931472\n",
      "\n",
      "Hypothesis:  [[0.5001259 ]\n",
      " [0.5000193 ]\n",
      " [0.50002015]\n",
      " [0.4999136 ]] \n",
      "Correct:  [[1.]\n",
      " [1.]\n",
      " [1.]\n",
      " [0.]] \n",
      "Accuracy:  0.75\n"
     ]
    }
   ],
   "source": [
    "config = tf.ConfigProto(device_count={'GPU': 0})\n",
    "\n",
    "with tf.Session(config = config) as sess:\n",
    "    sess.run(tf.global_variables_initializer())\n",
    "    \n",
    "    for step in range(2001):\n",
    "        sess.run(train, feed_dict = {X:x_data, Y:y_data})\n",
    "        \n",
    "        if step % 100 == 0:\n",
    "            print(step, sess.run(cost, feed_dict = {X:x_data, Y:y_data}))\n",
    "            \n",
    "    h, c, a = sess.run([hypothesis, predicted, accuracy], feed_dict = {X:x_data, Y: y_data})\n",
    "    print('\\nHypothesis: ',h, '\\nCorrect: ',c, '\\nAccuracy: ', a)"
   ]
  },
  {
   "cell_type": "markdown",
   "metadata": {},
   "source": [
    "## Neural Net"
   ]
  },
  {
   "cell_type": "code",
   "execution_count": 16,
   "metadata": {},
   "outputs": [],
   "source": [
    "W1 = tf.Variable(tf.random_normal([2,2]), name = 'weigth1') #output의 수는 자유\n",
    "b1 = tf.Variable(tf.random_normal([2]), name = 'bias1')\n",
    "layer1 = tf.sigmoid(tf.matmul(X, W1) + b1)\n",
    "\n",
    "W2 = tf.Variable(tf.random_normal([2,1]), name = 'weight2')\n",
    "b2 = tf.Variable(tf.random_normal([1]), name = 'bias2')\n",
    "hypothesis = tf.sigmoid(tf.matmul(layer1, W2) + b2)"
   ]
  },
  {
   "cell_type": "code",
   "execution_count": 17,
   "metadata": {},
   "outputs": [
    {
     "name": "stdout",
     "output_type": "stream",
     "text": [
      "0 0.7231568\n",
      "100 0.6882884\n",
      "200 0.6843182\n",
      "300 0.6803818\n",
      "400 0.6760466\n",
      "500 0.67098236\n",
      "600 0.66484016\n",
      "700 0.6572299\n",
      "800 0.6477318\n",
      "900 0.63595206\n",
      "1000 0.6216126\n",
      "1100 0.60462403\n",
      "1200 0.5850699\n",
      "1300 0.56310135\n",
      "1400 0.5388204\n",
      "1500 0.5122299\n",
      "1600 0.48328397\n",
      "1700 0.45202357\n",
      "1800 0.41874674\n",
      "1900 0.38411868\n",
      "2000 0.3491394\n",
      "\n",
      "Hypothesis:  [[0.1645508 ]\n",
      " [0.69475114]\n",
      " [0.6967605 ]\n",
      " [0.38814303]] \n",
      "Correct:  [[0.]\n",
      " [1.]\n",
      " [1.]\n",
      " [0.]] \n",
      "Accuracy:  1.0\n"
     ]
    }
   ],
   "source": [
    "cost = -tf.reduce_mean(Y*tf.log(hypothesis) + (1-Y)*tf.log(1-hypothesis))\n",
    "train = tf.train.GradientDescentOptimizer(learning_rate = 0.1).minimize(cost)\n",
    "\n",
    "predicted = tf.cast(hypothesis > 0.5, dtype = tf.float32)\n",
    "accuracy = tf.reduce_mean(tf.cast(tf.equal(predicted, Y), dtype = tf.float32))\n",
    "\n",
    "config = tf.ConfigProto(device_count={'GPU': 0})\n",
    "\n",
    "with tf.Session(config = config) as sess:\n",
    "    sess.run(tf.global_variables_initializer())\n",
    "    \n",
    "    for step in range(2001):\n",
    "        sess.run(train, feed_dict = {X:x_data, Y:y_data})\n",
    "        \n",
    "        if step % 100 == 0:\n",
    "            print(step, sess.run(cost, feed_dict = {X:x_data, Y:y_data}))\n",
    "            \n",
    "    h, c, a = sess.run([hypothesis, predicted, accuracy], feed_dict = {X:x_data, Y: y_data})\n",
    "    print('\\nHypothesis: ',h, '\\nCorrect: ',c, '\\nAccuracy: ', a)"
   ]
  },
  {
   "cell_type": "markdown",
   "metadata": {},
   "source": [
    "### Wide NN for XOR\n",
    "* 학습은 더 잘 되었다!"
   ]
  },
  {
   "cell_type": "code",
   "execution_count": 19,
   "metadata": {},
   "outputs": [],
   "source": [
    "W1 = tf.Variable(tf.random_normal([2,10]), name = 'weigth1') #output의 수는 자유\n",
    "b1 = tf.Variable(tf.random_normal([10]), name = 'bias1')\n",
    "layer1 = tf.sigmoid(tf.matmul(X, W1) + b1)\n",
    "\n",
    "W2 = tf.Variable(tf.random_normal([10,1]), name = 'weight2')\n",
    "b2 = tf.Variable(tf.random_normal([1]), name = 'bias2')\n",
    "hypothesis = tf.sigmoid(tf.matmul(layer1, W2) + b2)"
   ]
  },
  {
   "cell_type": "code",
   "execution_count": 20,
   "metadata": {},
   "outputs": [
    {
     "name": "stdout",
     "output_type": "stream",
     "text": [
      "0 2.1063378\n",
      "100 0.6946392\n",
      "200 0.68324566\n",
      "300 0.67232656\n",
      "400 0.659871\n",
      "500 0.6442381\n",
      "600 0.62395555\n",
      "700 0.5978161\n",
      "800 0.5651206\n",
      "900 0.52594244\n",
      "1000 0.48126864\n",
      "1100 0.43295678\n",
      "1200 0.38348976\n",
      "1300 0.33550203\n",
      "1400 0.29119286\n",
      "1500 0.2519127\n",
      "1600 0.21811399\n",
      "1700 0.18958135\n",
      "1800 0.1657366\n",
      "1900 0.14587703\n",
      "2000 0.12931758\n",
      "\n",
      "Hypothesis:  [[0.09243622]\n",
      " [0.8908616 ]\n",
      " [0.86475825]\n",
      " [0.1473511 ]] \n",
      "Correct:  [[0.]\n",
      " [1.]\n",
      " [1.]\n",
      " [0.]] \n",
      "Accuracy:  1.0\n"
     ]
    }
   ],
   "source": [
    "cost = -tf.reduce_mean(Y*tf.log(hypothesis) + (1-Y)*tf.log(1-hypothesis))\n",
    "train = tf.train.GradientDescentOptimizer(learning_rate = 0.1).minimize(cost)\n",
    "\n",
    "predicted = tf.cast(hypothesis > 0.5, dtype = tf.float32)\n",
    "accuracy = tf.reduce_mean(tf.cast(tf.equal(predicted, Y), dtype = tf.float32))\n",
    "\n",
    "config = tf.ConfigProto(device_count={'GPU': 0})\n",
    "\n",
    "with tf.Session(config = config) as sess:\n",
    "    sess.run(tf.global_variables_initializer())\n",
    "    \n",
    "    for step in range(2001):\n",
    "        sess.run(train, feed_dict = {X:x_data, Y:y_data})\n",
    "        \n",
    "        if step % 100 == 0:\n",
    "            print(step, sess.run(cost, feed_dict = {X:x_data, Y:y_data}))\n",
    "            \n",
    "    h, c, a = sess.run([hypothesis, predicted, accuracy], feed_dict = {X:x_data, Y: y_data})\n",
    "    print('\\nHypothesis: ',h, '\\nCorrect: ',c, '\\nAccuracy: ', a)"
   ]
  },
  {
   "cell_type": "markdown",
   "metadata": {},
   "source": [
    "### Deep NN for XOR\n",
    "- 4 layers\n",
    "- 더 좋은 결과"
   ]
  },
  {
   "cell_type": "code",
   "execution_count": 21,
   "metadata": {},
   "outputs": [],
   "source": [
    "W1 = tf.Variable(tf.random_normal([2,10]), name = 'weigth1') #output의 수는 자유\n",
    "b1 = tf.Variable(tf.random_normal([10]), name = 'bias1')\n",
    "layer1 = tf.sigmoid(tf.matmul(X, W1) + b1)\n",
    "\n",
    "W2 = tf.Variable(tf.random_normal([10,10]), name = 'weight2')\n",
    "b2 = tf.Variable(tf.random_normal([10]), name = 'bias2')\n",
    "layer2 = tf.sigmoid(tf.matmul(layer1, W2) + b2)\n",
    "\n",
    "W3 = tf.Variable(tf.random_normal([10,10]), name = 'weigth3') #output의 수는 자유\n",
    "b3 = tf.Variable(tf.random_normal([10]), name = 'bias3')\n",
    "layer3 = tf.sigmoid(tf.matmul(layer2, W3) + b3)\n",
    "\n",
    "W4 = tf.Variable(tf.random_normal([10,1]), name = 'weight4')\n",
    "b4 = tf.Variable(tf.random_normal([1]), name = 'bias4')\n",
    "hypothesis = tf.sigmoid(tf.matmul(layer3, W4) + b4)\n"
   ]
  },
  {
   "cell_type": "code",
   "execution_count": 22,
   "metadata": {},
   "outputs": [
    {
     "name": "stdout",
     "output_type": "stream",
     "text": [
      "0 1.7582093\n",
      "100 0.6713707\n",
      "200 0.65225375\n",
      "300 0.621497\n",
      "400 0.5717838\n",
      "500 0.49696785\n",
      "600 0.39608085\n",
      "700 0.2848631\n",
      "800 0.19137946\n",
      "900 0.12820393\n",
      "1000 0.08930346\n",
      "1100 0.06535558\n",
      "1200 0.050033458\n",
      "1300 0.039758097\n",
      "1400 0.03255548\n",
      "1500 0.027308628\n",
      "1600 0.02335979\n",
      "1700 0.020305045\n",
      "1800 0.017886328\n",
      "1900 0.01593295\n",
      "2000 0.014328404\n",
      "\n",
      "Hypothesis:  [[0.01113591]\n",
      " [0.9868498 ]\n",
      " [0.9849396 ]\n",
      " [0.01754699]] \n",
      "Correct:  [[0.]\n",
      " [1.]\n",
      " [1.]\n",
      " [0.]] \n",
      "Accuracy:  1.0\n"
     ]
    }
   ],
   "source": [
    "cost = -tf.reduce_mean(Y*tf.log(hypothesis) + (1-Y)*tf.log(1-hypothesis))\n",
    "train = tf.train.GradientDescentOptimizer(learning_rate = 0.1).minimize(cost)\n",
    "\n",
    "predicted = tf.cast(hypothesis > 0.5, dtype = tf.float32)\n",
    "accuracy = tf.reduce_mean(tf.cast(tf.equal(predicted, Y), dtype = tf.float32))\n",
    "\n",
    "config = tf.ConfigProto(device_count={'GPU': 0})\n",
    "\n",
    "with tf.Session(config = config) as sess:\n",
    "    sess.run(tf.global_variables_initializer())\n",
    "    \n",
    "    for step in range(2001):\n",
    "        sess.run(train, feed_dict = {X:x_data, Y:y_data})\n",
    "        \n",
    "        if step % 100 == 0:\n",
    "            print(step, sess.run(cost, feed_dict = {X:x_data, Y:y_data}))\n",
    "            \n",
    "    h, c, a = sess.run([hypothesis, predicted, accuracy], feed_dict = {X:x_data, Y: y_data})\n",
    "    print('\\nHypothesis: ',h, '\\nCorrect: ',c, '\\nAccuracy: ', a)"
   ]
  },
  {
   "cell_type": "code",
   "execution_count": null,
   "metadata": {},
   "outputs": [],
   "source": []
  }
 ],
 "metadata": {
  "kernelspec": {
   "display_name": "Python 3",
   "language": "python",
   "name": "python3"
  },
  "language_info": {
   "codemirror_mode": {
    "name": "ipython",
    "version": 3
   },
   "file_extension": ".py",
   "mimetype": "text/x-python",
   "name": "python",
   "nbconvert_exporter": "python",
   "pygments_lexer": "ipython3",
   "version": "3.6.5"
  }
 },
 "nbformat": 4,
 "nbformat_minor": 2
}
